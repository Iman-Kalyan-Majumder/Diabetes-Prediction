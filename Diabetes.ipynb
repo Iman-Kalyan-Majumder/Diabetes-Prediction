{
  "nbformat": 4,
  "nbformat_minor": 0,
  "metadata": {
    "colab": {
      "provenance": [],
      "authorship_tag": "ABX9TyMY0utkX6zrOFwyP6TqN+qa",
      "include_colab_link": true
    },
    "kernelspec": {
      "name": "python3",
      "display_name": "Python 3"
    },
    "language_info": {
      "name": "python"
    }
  },
  "cells": [
    {
      "cell_type": "markdown",
      "metadata": {
        "id": "view-in-github",
        "colab_type": "text"
      },
      "source": [
        "<a href=\"https://colab.research.google.com/github/Iman-Kalyan-Majumder/Diabetes-Prediction/blob/main/Diabetes.ipynb\" target=\"_parent\"><img src=\"https://colab.research.google.com/assets/colab-badge.svg\" alt=\"Open In Colab\"/></a>"
      ]
    },
    {
      "cell_type": "code",
      "execution_count": 8,
      "metadata": {
        "id": "_miIXjI7Z3F4"
      },
      "outputs": [],
      "source": [
        "import pandas as pd\n",
        "import numpy as np\n",
        "import matplotlib.pyplot as plt\n",
        "from sklearn.preprocessing import StandardScaler\n",
        "from imblearn.over_sampling import RandomOverSampler"
      ]
    },
    {
      "cell_type": "code",
      "source": [
        "data=pd.read_csv(\"diabetes.csv\")"
      ],
      "metadata": {
        "id": "5JVQDTfsaCV7"
      },
      "execution_count": 3,
      "outputs": []
    },
    {
      "cell_type": "code",
      "source": [
        "data.head()"
      ],
      "metadata": {
        "id": "1y3mKmd6afsk",
        "colab": {
          "base_uri": "https://localhost:8080/",
          "height": 206
        },
        "outputId": "15e6f159-8ada-4b73-ff19-dd778a38c946"
      },
      "execution_count": 4,
      "outputs": [
        {
          "output_type": "execute_result",
          "data": {
            "text/plain": [
              "   Pregnancies  Glucose  BloodPressure  SkinThickness  Insulin   BMI  \\\n",
              "0            6      148             72             35        0  33.6   \n",
              "1            1       85             66             29        0  26.6   \n",
              "2            8      183             64              0        0  23.3   \n",
              "3            1       89             66             23       94  28.1   \n",
              "4            0      137             40             35      168  43.1   \n",
              "\n",
              "   DiabetesPedigreeFunction  Age  Outcome  \n",
              "0                     0.627   50        1  \n",
              "1                     0.351   31        0  \n",
              "2                     0.672   32        1  \n",
              "3                     0.167   21        0  \n",
              "4                     2.288   33        1  "
            ],
            "text/html": [
              "\n",
              "  <div id=\"df-4a9c9d7a-55e2-4d3f-8609-f7e39b41f1db\">\n",
              "    <div class=\"colab-df-container\">\n",
              "      <div>\n",
              "<style scoped>\n",
              "    .dataframe tbody tr th:only-of-type {\n",
              "        vertical-align: middle;\n",
              "    }\n",
              "\n",
              "    .dataframe tbody tr th {\n",
              "        vertical-align: top;\n",
              "    }\n",
              "\n",
              "    .dataframe thead th {\n",
              "        text-align: right;\n",
              "    }\n",
              "</style>\n",
              "<table border=\"1\" class=\"dataframe\">\n",
              "  <thead>\n",
              "    <tr style=\"text-align: right;\">\n",
              "      <th></th>\n",
              "      <th>Pregnancies</th>\n",
              "      <th>Glucose</th>\n",
              "      <th>BloodPressure</th>\n",
              "      <th>SkinThickness</th>\n",
              "      <th>Insulin</th>\n",
              "      <th>BMI</th>\n",
              "      <th>DiabetesPedigreeFunction</th>\n",
              "      <th>Age</th>\n",
              "      <th>Outcome</th>\n",
              "    </tr>\n",
              "  </thead>\n",
              "  <tbody>\n",
              "    <tr>\n",
              "      <th>0</th>\n",
              "      <td>6</td>\n",
              "      <td>148</td>\n",
              "      <td>72</td>\n",
              "      <td>35</td>\n",
              "      <td>0</td>\n",
              "      <td>33.6</td>\n",
              "      <td>0.627</td>\n",
              "      <td>50</td>\n",
              "      <td>1</td>\n",
              "    </tr>\n",
              "    <tr>\n",
              "      <th>1</th>\n",
              "      <td>1</td>\n",
              "      <td>85</td>\n",
              "      <td>66</td>\n",
              "      <td>29</td>\n",
              "      <td>0</td>\n",
              "      <td>26.6</td>\n",
              "      <td>0.351</td>\n",
              "      <td>31</td>\n",
              "      <td>0</td>\n",
              "    </tr>\n",
              "    <tr>\n",
              "      <th>2</th>\n",
              "      <td>8</td>\n",
              "      <td>183</td>\n",
              "      <td>64</td>\n",
              "      <td>0</td>\n",
              "      <td>0</td>\n",
              "      <td>23.3</td>\n",
              "      <td>0.672</td>\n",
              "      <td>32</td>\n",
              "      <td>1</td>\n",
              "    </tr>\n",
              "    <tr>\n",
              "      <th>3</th>\n",
              "      <td>1</td>\n",
              "      <td>89</td>\n",
              "      <td>66</td>\n",
              "      <td>23</td>\n",
              "      <td>94</td>\n",
              "      <td>28.1</td>\n",
              "      <td>0.167</td>\n",
              "      <td>21</td>\n",
              "      <td>0</td>\n",
              "    </tr>\n",
              "    <tr>\n",
              "      <th>4</th>\n",
              "      <td>0</td>\n",
              "      <td>137</td>\n",
              "      <td>40</td>\n",
              "      <td>35</td>\n",
              "      <td>168</td>\n",
              "      <td>43.1</td>\n",
              "      <td>2.288</td>\n",
              "      <td>33</td>\n",
              "      <td>1</td>\n",
              "    </tr>\n",
              "  </tbody>\n",
              "</table>\n",
              "</div>\n",
              "      <button class=\"colab-df-convert\" onclick=\"convertToInteractive('df-4a9c9d7a-55e2-4d3f-8609-f7e39b41f1db')\"\n",
              "              title=\"Convert this dataframe to an interactive table.\"\n",
              "              style=\"display:none;\">\n",
              "        \n",
              "  <svg xmlns=\"http://www.w3.org/2000/svg\" height=\"24px\"viewBox=\"0 0 24 24\"\n",
              "       width=\"24px\">\n",
              "    <path d=\"M0 0h24v24H0V0z\" fill=\"none\"/>\n",
              "    <path d=\"M18.56 5.44l.94 2.06.94-2.06 2.06-.94-2.06-.94-.94-2.06-.94 2.06-2.06.94zm-11 1L8.5 8.5l.94-2.06 2.06-.94-2.06-.94L8.5 2.5l-.94 2.06-2.06.94zm10 10l.94 2.06.94-2.06 2.06-.94-2.06-.94-.94-2.06-.94 2.06-2.06.94z\"/><path d=\"M17.41 7.96l-1.37-1.37c-.4-.4-.92-.59-1.43-.59-.52 0-1.04.2-1.43.59L10.3 9.45l-7.72 7.72c-.78.78-.78 2.05 0 2.83L4 21.41c.39.39.9.59 1.41.59.51 0 1.02-.2 1.41-.59l7.78-7.78 2.81-2.81c.8-.78.8-2.07 0-2.86zM5.41 20L4 18.59l7.72-7.72 1.47 1.35L5.41 20z\"/>\n",
              "  </svg>\n",
              "      </button>\n",
              "      \n",
              "  <style>\n",
              "    .colab-df-container {\n",
              "      display:flex;\n",
              "      flex-wrap:wrap;\n",
              "      gap: 12px;\n",
              "    }\n",
              "\n",
              "    .colab-df-convert {\n",
              "      background-color: #E8F0FE;\n",
              "      border: none;\n",
              "      border-radius: 50%;\n",
              "      cursor: pointer;\n",
              "      display: none;\n",
              "      fill: #1967D2;\n",
              "      height: 32px;\n",
              "      padding: 0 0 0 0;\n",
              "      width: 32px;\n",
              "    }\n",
              "\n",
              "    .colab-df-convert:hover {\n",
              "      background-color: #E2EBFA;\n",
              "      box-shadow: 0px 1px 2px rgba(60, 64, 67, 0.3), 0px 1px 3px 1px rgba(60, 64, 67, 0.15);\n",
              "      fill: #174EA6;\n",
              "    }\n",
              "\n",
              "    [theme=dark] .colab-df-convert {\n",
              "      background-color: #3B4455;\n",
              "      fill: #D2E3FC;\n",
              "    }\n",
              "\n",
              "    [theme=dark] .colab-df-convert:hover {\n",
              "      background-color: #434B5C;\n",
              "      box-shadow: 0px 1px 3px 1px rgba(0, 0, 0, 0.15);\n",
              "      filter: drop-shadow(0px 1px 2px rgba(0, 0, 0, 0.3));\n",
              "      fill: #FFFFFF;\n",
              "    }\n",
              "  </style>\n",
              "\n",
              "      <script>\n",
              "        const buttonEl =\n",
              "          document.querySelector('#df-4a9c9d7a-55e2-4d3f-8609-f7e39b41f1db button.colab-df-convert');\n",
              "        buttonEl.style.display =\n",
              "          google.colab.kernel.accessAllowed ? 'block' : 'none';\n",
              "\n",
              "        async function convertToInteractive(key) {\n",
              "          const element = document.querySelector('#df-4a9c9d7a-55e2-4d3f-8609-f7e39b41f1db');\n",
              "          const dataTable =\n",
              "            await google.colab.kernel.invokeFunction('convertToInteractive',\n",
              "                                                     [key], {});\n",
              "          if (!dataTable) return;\n",
              "\n",
              "          const docLinkHtml = 'Like what you see? Visit the ' +\n",
              "            '<a target=\"_blank\" href=https://colab.research.google.com/notebooks/data_table.ipynb>data table notebook</a>'\n",
              "            + ' to learn more about interactive tables.';\n",
              "          element.innerHTML = '';\n",
              "          dataTable['output_type'] = 'display_data';\n",
              "          await google.colab.output.renderOutput(dataTable, element);\n",
              "          const docLink = document.createElement('div');\n",
              "          docLink.innerHTML = docLinkHtml;\n",
              "          element.appendChild(docLink);\n",
              "        }\n",
              "      </script>\n",
              "    </div>\n",
              "  </div>\n",
              "  "
            ]
          },
          "metadata": {},
          "execution_count": 4
        }
      ]
    },
    {
      "cell_type": "code",
      "source": [
        "for label in data.columns[:-1]:\n",
        "  plt.hist(data[data['Outcome']==1][label], density=True, color=\"red\", alpha=0.7, label=\"Diabetes\")\n",
        "  plt.hist(data[data['Outcome']==0][label], density=True, color=\"blue\", alpha=0.7, label=\"No Diabetes\")\n",
        "  plt.legend()\n",
        "  plt.ylabel(\"Probability\")\n",
        "  plt.xlabel(label)\n",
        "  plt.show()"
      ],
      "metadata": {
        "colab": {
          "base_uri": "https://localhost:8080/",
          "height": 1000
        },
        "id": "s5h7_VDEbmOu",
        "outputId": "5d382b7a-c7b5-4e74-c900-513c002b0b0c"
      },
      "execution_count": 6,
      "outputs": [
        {
          "output_type": "display_data",
          "data": {
            "text/plain": [
              "<Figure size 432x288 with 1 Axes>"
            ],
            "image/png": "[encoded data removed]"
          },
          "metadata": {
            "needs_background": "light"
          }
        },
        {
          "output_type": "display_data",
          "data": {
            "text/plain": [
              "<Figure size 432x288 with 1 Axes>"
            ],
            "image/png": "[encoded data removed]"
          },
          "metadata": {
            "needs_background": "light"
          }
        },
        {
          "output_type": "display_data",
          "data": {
            "text/plain": [
              "<Figure size 432x288 with 1 Axes>"
            ],
            "image/png": "[encoded data removed]"
          },
          "metadata": {
            "needs_background": "light"
          }
        },
        {
          "output_type": "display_data",
          "data": {
            "text/plain": [
              "<Figure size 432x288 with 1 Axes>"
            ],
            "image/png": "[encoded data removed]"
          },
          "metadata": {
            "needs_background": "light"
          }
        },
        {
          "output_type": "display_data",
          "data": {
            "text/plain": [
              "<Figure size 432x288 with 1 Axes>"
            ],
            "image/png": "[encoded data removed]"
          },
          "metadata": {
            "needs_background": "light"
          }
        },
        {
          "output_type": "display_data",
          "data": {
            "text/plain": [
              "<Figure size 432x288 with 1 Axes>"
            ],
            "image/png": "[encoded data removed]"
          },
          "metadata": {
            "needs_background": "light"
          }
        },
        {
          "output_type": "display_data",
          "data": {
            "text/plain": [
              "<Figure size 432x288 with 1 Axes>"
            ],
            "image/png": "[encoded data removed]"
          },
          "metadata": {
            "needs_background": "light"
          }
        },
        {
          "output_type": "display_data",
          "data": {
            "text/plain": [
              "<Figure size 432x288 with 1 Axes>"
            ],
            "image/png": "[encoded data removed]"
          },
          "metadata": {
            "needs_background": "light"
          }
        }
      ]
    },
    {
      "cell_type": "code",
      "source": [
        "def scale_dataset(data, oversample=False):\n",
        "  scaler=StandardScaler()\n",
        "  X=data[data.columns[:-1]].values\n",
        "  X=scaler.fit_transform(X)\n",
        "  y=data[data.columns[-1]].values\n",
        "\n",
        "  if oversample:\n",
        "    over=RandomOverSampler()\n",
        "    X,y=over.fit_resample(X,y)\n",
        "  \n",
        "  temp_data=np.hstack((X,np.reshape(y,(-1,1))))\n",
        "  data=pd.DataFrame(temp_data,columns=data.columns)\n",
        "\n",
        "  return data, X, y"
      ],
      "metadata": {
        "id": "qH0SstLnc5Yd"
      },
      "execution_count": 15,
      "outputs": []
    },
    {
      "cell_type": "code",
      "source": [
        "train,test=np.split(data.sample(frac=1),[int(0.9*len(data))])"
      ],
      "metadata": {
        "id": "C7Ba_quPeH0y"
      },
      "execution_count": 10,
      "outputs": []
    },
    {
      "cell_type": "code",
      "source": [
        "len(train),len(test)"
      ],
      "metadata": {
        "colab": {
          "base_uri": "https://localhost:8080/"
        },
        "id": "ub2Ch-c6ekYp",
        "outputId": "824dce36-2bcd-4a50-9010-2bda0bb344dc"
      },
      "execution_count": 11,
      "outputs": [
        {
          "output_type": "execute_result",
          "data": {
            "text/plain": [
              "(691, 77)"
            ]
          },
          "metadata": {},
          "execution_count": 11
        }
      ]
    },
    {
      "cell_type": "code",
      "source": [
        "train, X_train, y_train = scale_dataset(train,oversample=True)\n",
        "test, X_test, y_test = scale_dataset(test, oversample=False)"
      ],
      "metadata": {
        "id": "8HhT0l03emRf"
      },
      "execution_count": 85,
      "outputs": []
    },
    {
      "cell_type": "code",
      "source": [
        "len(train[train['Outcome']==1]),len(train[train['Outcome']==0])"
      ],
      "metadata": {
        "colab": {
          "base_uri": "https://localhost:8080/"
        },
        "id": "XvsKmlESe1OE",
        "outputId": "00762a36-1a60-43d4-af1d-df4ba2661c57"
      },
      "execution_count": 86,
      "outputs": [
        {
          "output_type": "execute_result",
          "data": {
            "text/plain": [
              "(449, 449)"
            ]
          },
          "metadata": {},
          "execution_count": 86
        }
      ]
    },
    {
      "cell_type": "markdown",
      "source": [
        "# Random Forest Classifier"
      ],
      "metadata": {
        "id": "WzPoRxoZfrwm"
      }
    },
    {
      "cell_type": "code",
      "source": [
        "from sklearn.ensemble import RandomForestClassifier"
      ],
      "metadata": {
        "id": "82fTpQ5ifFWI"
      },
      "execution_count": 87,
      "outputs": []
    },
    {
      "cell_type": "code",
      "source": [
        "model=RandomForestClassifier()\n",
        "model.fit(X_train,y_train)"
      ],
      "metadata": {
        "colab": {
          "base_uri": "https://localhost:8080/"
        },
        "id": "1gfl9YIafNuf",
        "outputId": "94003f0d-c95f-438c-bd43-56e3c3348bf9"
      },
      "execution_count": 88,
      "outputs": [
        {
          "output_type": "execute_result",
          "data": {
            "text/plain": [
              "RandomForestClassifier()"
            ]
          },
          "metadata": {},
          "execution_count": 88
        }
      ]
    },
    {
      "cell_type": "code",
      "source": [
        "y_pred=model.predict(X_test)"
      ],
      "metadata": {
        "id": "DFoPmqBsfS72"
      },
      "execution_count": 89,
      "outputs": []
    },
    {
      "cell_type": "code",
      "source": [
        "from sklearn.metrics import classification_report"
      ],
      "metadata": {
        "id": "KqYO7UWLfZXa"
      },
      "execution_count": 90,
      "outputs": []
    },
    {
      "cell_type": "code",
      "source": [
        "print(classification_report(y_test,y_pred))"
      ],
      "metadata": {
        "colab": {
          "base_uri": "https://localhost:8080/"
        },
        "id": "h9XSgWMJffFa",
        "outputId": "14b4db23-3ef9-496c-ef3b-595d76b81d11"
      },
      "execution_count": 91,
      "outputs": [
        {
          "output_type": "stream",
          "name": "stdout",
          "text": [
            "              precision    recall  f1-score   support\n",
            "\n",
            "         0.0       0.88      0.86      0.87        51\n",
            "         1.0       0.74      0.77      0.75        26\n",
            "\n",
            "    accuracy                           0.83        77\n",
            "   macro avg       0.81      0.82      0.81        77\n",
            "weighted avg       0.83      0.83      0.83        77\n",
            "\n"
          ]
        }
      ]
    },
    {
      "cell_type": "markdown",
      "source": [
        "Accuracy of 83%"
      ],
      "metadata": {
        "id": "7zs5C58Ff7wI"
      }
    },
    {
      "cell_type": "markdown",
      "source": [
        "# K Nearest Neighbors"
      ],
      "metadata": {
        "id": "4pB-Sz_YgNwU"
      }
    },
    {
      "cell_type": "code",
      "source": [
        "from sklearn.neighbors import KNeighborsClassifier"
      ],
      "metadata": {
        "id": "gk9vsOnbfizA"
      },
      "execution_count": 92,
      "outputs": []
    },
    {
      "cell_type": "code",
      "source": [
        "knn_model=KNeighborsClassifier(n_neighbors=7)"
      ],
      "metadata": {
        "id": "p8h83_jxgYob"
      },
      "execution_count": 93,
      "outputs": []
    },
    {
      "cell_type": "code",
      "source": [
        "knn_model.fit(X_train,y_train)"
      ],
      "metadata": {
        "colab": {
          "base_uri": "https://localhost:8080/"
        },
        "id": "OjL18Nnbgcis",
        "outputId": "2fecacc5-5b99-4e52-b129-3eba04779779"
      },
      "execution_count": 94,
      "outputs": [
        {
          "output_type": "execute_result",
          "data": {
            "text/plain": [
              "KNeighborsClassifier(n_neighbors=7)"
            ]
          },
          "metadata": {},
          "execution_count": 94
        }
      ]
    },
    {
      "cell_type": "code",
      "source": [
        "y_pred=knn_model.predict(X_test)"
      ],
      "metadata": {
        "id": "y5qZ7zk3gf7n"
      },
      "execution_count": 95,
      "outputs": []
    },
    {
      "cell_type": "code",
      "source": [
        "print(classification_report(y_test,y_pred))"
      ],
      "metadata": {
        "colab": {
          "base_uri": "https://localhost:8080/"
        },
        "id": "53UArdh2gmo_",
        "outputId": "0db596c1-d38e-49e7-8a33-03a6048ebcab"
      },
      "execution_count": 96,
      "outputs": [
        {
          "output_type": "stream",
          "name": "stdout",
          "text": [
            "              precision    recall  f1-score   support\n",
            "\n",
            "         0.0       0.92      0.71      0.80        51\n",
            "         1.0       0.61      0.88      0.72        26\n",
            "\n",
            "    accuracy                           0.77        77\n",
            "   macro avg       0.76      0.80      0.76        77\n",
            "weighted avg       0.82      0.77      0.77        77\n",
            "\n"
          ]
        }
      ]
    },
    {
      "cell_type": "markdown",
      "source": [
        "Accuracy of 77%"
      ],
      "metadata": {
        "id": "ww7_6SakhSJE"
      }
    },
    {
      "cell_type": "markdown",
      "source": [
        "# Support Vector Machine"
      ],
      "metadata": {
        "id": "M6SDiIT9hYI2"
      }
    },
    {
      "cell_type": "code",
      "source": [
        "from sklearn.svm import SVC"
      ],
      "metadata": {
        "id": "CtiwjRzYgpvn"
      },
      "execution_count": 97,
      "outputs": []
    },
    {
      "cell_type": "code",
      "source": [
        "svc_model=SVC()"
      ],
      "metadata": {
        "id": "fXn1wXkjheJ_"
      },
      "execution_count": 102,
      "outputs": []
    },
    {
      "cell_type": "code",
      "source": [
        "svc_model.fit(X_train,y_train)"
      ],
      "metadata": {
        "colab": {
          "base_uri": "https://localhost:8080/"
        },
        "id": "5rcShrdFhmRE",
        "outputId": "79f5f855-79f3-44ab-efd7-8903f890b1d7"
      },
      "execution_count": 103,
      "outputs": [
        {
          "output_type": "execute_result",
          "data": {
            "text/plain": [
              "SVC()"
            ]
          },
          "metadata": {},
          "execution_count": 103
        }
      ]
    },
    {
      "cell_type": "code",
      "source": [
        "y_pred=svc_model.predict(X_test)"
      ],
      "metadata": {
        "id": "yaqFaVQBhs_I"
      },
      "execution_count": 104,
      "outputs": []
    },
    {
      "cell_type": "code",
      "source": [
        "print(classification_report(y_pred,y_test))"
      ],
      "metadata": {
        "colab": {
          "base_uri": "https://localhost:8080/"
        },
        "id": "r9Cg1VgkhxPh",
        "outputId": "a02136aa-a8ff-45df-8ecd-566ee01325ec"
      },
      "execution_count": 105,
      "outputs": [
        {
          "output_type": "stream",
          "name": "stdout",
          "text": [
            "              precision    recall  f1-score   support\n",
            "\n",
            "         0.0       0.69      0.92      0.79        38\n",
            "         1.0       0.88      0.59      0.71        39\n",
            "\n",
            "    accuracy                           0.75        77\n",
            "   macro avg       0.79      0.76      0.75        77\n",
            "weighted avg       0.79      0.75      0.75        77\n",
            "\n"
          ]
        }
      ]
    },
    {
      "cell_type": "markdown",
      "source": [
        "Accuracy of 75%"
      ],
      "metadata": {
        "id": "iYR4Jnw-im8k"
      }
    },
    {
      "cell_type": "markdown",
      "source": [
        "## Deep Neural Network"
      ],
      "metadata": {
        "id": "UsI4zUnNx6UR"
      }
    },
    {
      "cell_type": "code",
      "source": [
        "import tensorflow as tf"
      ],
      "metadata": {
        "id": "iIFY9pOGh2Dg"
      },
      "execution_count": 390,
      "outputs": []
    },
    {
      "cell_type": "code",
      "source": [
        "model=tf.keras.Sequential([\n",
        "    tf.keras.layers.Dense(16,activation=\"relu\"),\n",
        "    tf.keras.layers.Dropout(rate=0.15),\n",
        "    tf.keras.layers.Dense(16,activation=\"relu\"),\n",
        "    tf.keras.layers.Dropout(rate=0.15),\n",
        "    tf.keras.layers.Dense(16,activation=\"relu\"),\n",
        "    tf.keras.layers.Dense(1,activation=\"sigmoid\")\n",
        "])"
      ],
      "metadata": {
        "id": "LwWQldWci6yi"
      },
      "execution_count": 398,
      "outputs": []
    },
    {
      "cell_type": "code",
      "source": [
        "early_stopping=tf.keras.callbacks.EarlyStopping(\n",
        "    min_delta=0.001,\n",
        "    patience=50,\n",
        "    restore_best_weights=True\n",
        ")"
      ],
      "metadata": {
        "id": "vraoqdSJjmlD"
      },
      "execution_count": 431,
      "outputs": []
    },
    {
      "cell_type": "code",
      "source": [
        "model.compile(\n",
        "    optimizer=tf.keras.optimizers.Adam(learning_rate=0.001),\n",
        "    loss=tf.keras.losses.BinaryCrossentropy(),\n",
        "    metrics=[\"Accuracy\"]\n",
        ")"
      ],
      "metadata": {
        "id": "8Vo3OMa4j80C"
      },
      "execution_count": 432,
      "outputs": []
    },
    {
      "cell_type": "code",
      "source": [
        "train,valid,test=np.split(data.sample(frac=1),[int(0.8*len(data)),int(0.9*len(data))])\n",
        "train, X_train, y_train = scale_dataset(train,oversample=True)\n",
        "valid, X_valid, y_valid = scale_dataset(valid, oversample=False)\n",
        "test, X_test, y_test = scale_dataset(test, oversample=False)"
      ],
      "metadata": {
        "id": "vFKjCZ0SpbB8"
      },
      "execution_count": 444,
      "outputs": []
    },
    {
      "cell_type": "code",
      "source": [
        "history=model.fit(\n",
        "    X_train,\n",
        "    y_train,\n",
        "    batch_size=50,\n",
        "    epochs=200,\n",
        "    callbacks=[early_stopping],\n",
        "    validation_data=(X_valid,y_valid)\n",
        ")"
      ],
      "metadata": {
        "colab": {
          "base_uri": "https://localhost:8080/"
        },
        "id": "e4V_OP2Pkln2",
        "outputId": "a451581d-aa95-4c46-f117-2cd16f1c93bc"
      },
      "execution_count": 445,
      "outputs": [
        {
          "output_type": "stream",
          "name": "stdout",
          "text": [
            "Epoch 1/200\n",
            "16/16 [==============================] - 0s 6ms/step - loss: 0.4880 - Accuracy: 0.7645 - val_loss: 0.4586 - val_Accuracy: 0.7792\n",
            "Epoch 2/200\n",
            "16/16 [==============================] - 0s 4ms/step - loss: 0.4802 - Accuracy: 0.7657 - val_loss: 0.4567 - val_Accuracy: 0.7792\n",
            "Epoch 3/200\n",
            "16/16 [==============================] - 0s 4ms/step - loss: 0.4757 - Accuracy: 0.7670 - val_loss: 0.4633 - val_Accuracy: 0.7662\n",
            "Epoch 4/200\n",
            "16/16 [==============================] - 0s 4ms/step - loss: 0.4780 - Accuracy: 0.7758 - val_loss: 0.4609 - val_Accuracy: 0.7662\n",
            "Epoch 5/200\n",
            "16/16 [==============================] - 0s 4ms/step - loss: 0.4654 - Accuracy: 0.7758 - val_loss: 0.4579 - val_Accuracy: 0.7922\n",
            "Epoch 6/200\n",
            "16/16 [==============================] - 0s 4ms/step - loss: 0.4610 - Accuracy: 0.7720 - val_loss: 0.4611 - val_Accuracy: 0.7922\n",
            "Epoch 7/200\n",
            "16/16 [==============================] - 0s 4ms/step - loss: 0.4736 - Accuracy: 0.7909 - val_loss: 0.4588 - val_Accuracy: 0.7922\n",
            "Epoch 8/200\n",
            "16/16 [==============================] - 0s 4ms/step - loss: 0.4760 - Accuracy: 0.7607 - val_loss: 0.4578 - val_Accuracy: 0.8052\n",
            "Epoch 9/200\n",
            "16/16 [==============================] - 0s 5ms/step - loss: 0.4548 - Accuracy: 0.7758 - val_loss: 0.4606 - val_Accuracy: 0.7922\n",
            "Epoch 10/200\n",
            "16/16 [==============================] - 0s 4ms/step - loss: 0.4680 - Accuracy: 0.7746 - val_loss: 0.4667 - val_Accuracy: 0.7792\n",
            "Epoch 11/200\n",
            "16/16 [==============================] - 0s 5ms/step - loss: 0.4583 - Accuracy: 0.7872 - val_loss: 0.4621 - val_Accuracy: 0.7792\n",
            "Epoch 12/200\n",
            "16/16 [==============================] - 0s 4ms/step - loss: 0.4678 - Accuracy: 0.7783 - val_loss: 0.4605 - val_Accuracy: 0.7792\n",
            "Epoch 13/200\n",
            "16/16 [==============================] - 0s 5ms/step - loss: 0.4608 - Accuracy: 0.7733 - val_loss: 0.4628 - val_Accuracy: 0.7922\n",
            "Epoch 14/200\n",
            "16/16 [==============================] - 0s 4ms/step - loss: 0.4585 - Accuracy: 0.7670 - val_loss: 0.4676 - val_Accuracy: 0.7922\n",
            "Epoch 15/200\n",
            "16/16 [==============================] - 0s 4ms/step - loss: 0.4722 - Accuracy: 0.7771 - val_loss: 0.4622 - val_Accuracy: 0.8052\n",
            "Epoch 16/200\n",
            "16/16 [==============================] - 0s 5ms/step - loss: 0.4679 - Accuracy: 0.7758 - val_loss: 0.4609 - val_Accuracy: 0.8052\n",
            "Epoch 17/200\n",
            "16/16 [==============================] - 0s 4ms/step - loss: 0.4628 - Accuracy: 0.7733 - val_loss: 0.4642 - val_Accuracy: 0.7922\n",
            "Epoch 18/200\n",
            "16/16 [==============================] - 0s 4ms/step - loss: 0.4651 - Accuracy: 0.7746 - val_loss: 0.4621 - val_Accuracy: 0.7792\n",
            "Epoch 19/200\n",
            "16/16 [==============================] - 0s 4ms/step - loss: 0.4668 - Accuracy: 0.7720 - val_loss: 0.4648 - val_Accuracy: 0.7922\n",
            "Epoch 20/200\n",
            "16/16 [==============================] - 0s 4ms/step - loss: 0.4580 - Accuracy: 0.7771 - val_loss: 0.4676 - val_Accuracy: 0.7922\n",
            "Epoch 21/200\n",
            "16/16 [==============================] - 0s 4ms/step - loss: 0.4619 - Accuracy: 0.7708 - val_loss: 0.4721 - val_Accuracy: 0.7922\n",
            "Epoch 22/200\n",
            "16/16 [==============================] - 0s 4ms/step - loss: 0.4555 - Accuracy: 0.7809 - val_loss: 0.4667 - val_Accuracy: 0.7792\n",
            "Epoch 23/200\n",
            "16/16 [==============================] - 0s 4ms/step - loss: 0.4747 - Accuracy: 0.7683 - val_loss: 0.4659 - val_Accuracy: 0.7662\n",
            "Epoch 24/200\n",
            "16/16 [==============================] - 0s 4ms/step - loss: 0.4446 - Accuracy: 0.7859 - val_loss: 0.4677 - val_Accuracy: 0.7662\n",
            "Epoch 25/200\n",
            "16/16 [==============================] - 0s 4ms/step - loss: 0.4586 - Accuracy: 0.7809 - val_loss: 0.4691 - val_Accuracy: 0.7792\n",
            "Epoch 26/200\n",
            "16/16 [==============================] - 0s 4ms/step - loss: 0.4505 - Accuracy: 0.7922 - val_loss: 0.4692 - val_Accuracy: 0.7792\n",
            "Epoch 27/200\n",
            "16/16 [==============================] - 0s 4ms/step - loss: 0.4612 - Accuracy: 0.7834 - val_loss: 0.4683 - val_Accuracy: 0.7792\n",
            "Epoch 28/200\n",
            "16/16 [==============================] - 0s 4ms/step - loss: 0.4555 - Accuracy: 0.7720 - val_loss: 0.4682 - val_Accuracy: 0.7792\n",
            "Epoch 29/200\n",
            "16/16 [==============================] - 0s 4ms/step - loss: 0.4567 - Accuracy: 0.7708 - val_loss: 0.4705 - val_Accuracy: 0.7792\n",
            "Epoch 30/200\n",
            "16/16 [==============================] - 0s 4ms/step - loss: 0.4420 - Accuracy: 0.7809 - val_loss: 0.4676 - val_Accuracy: 0.7662\n",
            "Epoch 31/200\n",
            "16/16 [==============================] - 0s 4ms/step - loss: 0.4468 - Accuracy: 0.7872 - val_loss: 0.4662 - val_Accuracy: 0.7662\n",
            "Epoch 32/200\n",
            "16/16 [==============================] - 0s 4ms/step - loss: 0.4566 - Accuracy: 0.7733 - val_loss: 0.4676 - val_Accuracy: 0.7662\n",
            "Epoch 33/200\n",
            "16/16 [==============================] - 0s 4ms/step - loss: 0.4536 - Accuracy: 0.7758 - val_loss: 0.4645 - val_Accuracy: 0.7662\n",
            "Epoch 34/200\n",
            "16/16 [==============================] - 0s 4ms/step - loss: 0.4648 - Accuracy: 0.7695 - val_loss: 0.4698 - val_Accuracy: 0.7662\n",
            "Epoch 35/200\n",
            "16/16 [==============================] - 0s 4ms/step - loss: 0.4409 - Accuracy: 0.7897 - val_loss: 0.4678 - val_Accuracy: 0.7662\n",
            "Epoch 36/200\n",
            "16/16 [==============================] - 0s 4ms/step - loss: 0.4583 - Accuracy: 0.7796 - val_loss: 0.4733 - val_Accuracy: 0.7662\n",
            "Epoch 37/200\n",
            "16/16 [==============================] - 0s 4ms/step - loss: 0.4584 - Accuracy: 0.7733 - val_loss: 0.4671 - val_Accuracy: 0.7532\n",
            "Epoch 38/200\n",
            "16/16 [==============================] - 0s 4ms/step - loss: 0.4528 - Accuracy: 0.7720 - val_loss: 0.4648 - val_Accuracy: 0.7403\n",
            "Epoch 39/200\n",
            "16/16 [==============================] - 0s 4ms/step - loss: 0.4524 - Accuracy: 0.7834 - val_loss: 0.4734 - val_Accuracy: 0.7662\n",
            "Epoch 40/200\n",
            "16/16 [==============================] - 0s 4ms/step - loss: 0.4476 - Accuracy: 0.7771 - val_loss: 0.4719 - val_Accuracy: 0.7532\n",
            "Epoch 41/200\n",
            "16/16 [==============================] - 0s 4ms/step - loss: 0.4544 - Accuracy: 0.7670 - val_loss: 0.4738 - val_Accuracy: 0.7662\n",
            "Epoch 42/200\n",
            "16/16 [==============================] - 0s 3ms/step - loss: 0.4591 - Accuracy: 0.7733 - val_loss: 0.4685 - val_Accuracy: 0.7532\n",
            "Epoch 43/200\n",
            "16/16 [==============================] - 0s 4ms/step - loss: 0.4482 - Accuracy: 0.7796 - val_loss: 0.4679 - val_Accuracy: 0.7403\n",
            "Epoch 44/200\n",
            "16/16 [==============================] - 0s 4ms/step - loss: 0.4567 - Accuracy: 0.7720 - val_loss: 0.4689 - val_Accuracy: 0.7532\n",
            "Epoch 45/200\n",
            "16/16 [==============================] - 0s 4ms/step - loss: 0.4645 - Accuracy: 0.7897 - val_loss: 0.4692 - val_Accuracy: 0.7532\n",
            "Epoch 46/200\n",
            "16/16 [==============================] - 0s 4ms/step - loss: 0.4489 - Accuracy: 0.7695 - val_loss: 0.4777 - val_Accuracy: 0.7403\n",
            "Epoch 47/200\n",
            "16/16 [==============================] - 0s 4ms/step - loss: 0.4553 - Accuracy: 0.7872 - val_loss: 0.4714 - val_Accuracy: 0.7532\n",
            "Epoch 48/200\n",
            "16/16 [==============================] - 0s 4ms/step - loss: 0.4360 - Accuracy: 0.7985 - val_loss: 0.4729 - val_Accuracy: 0.7532\n",
            "Epoch 49/200\n",
            "16/16 [==============================] - 0s 4ms/step - loss: 0.4420 - Accuracy: 0.7909 - val_loss: 0.4723 - val_Accuracy: 0.7532\n",
            "Epoch 50/200\n",
            "16/16 [==============================] - 0s 4ms/step - loss: 0.4392 - Accuracy: 0.8035 - val_loss: 0.4722 - val_Accuracy: 0.7532\n",
            "Epoch 51/200\n",
            "16/16 [==============================] - 0s 5ms/step - loss: 0.4329 - Accuracy: 0.7960 - val_loss: 0.4711 - val_Accuracy: 0.7532\n",
            "Epoch 52/200\n",
            "16/16 [==============================] - 0s 4ms/step - loss: 0.4404 - Accuracy: 0.7897 - val_loss: 0.4702 - val_Accuracy: 0.7403\n"
          ]
        }
      ]
    },
    {
      "cell_type": "code",
      "source": [
        "model.evaluate(X_test,y_test)"
      ],
      "metadata": {
        "colab": {
          "base_uri": "https://localhost:8080/"
        },
        "id": "-4AOYnI1l7pc",
        "outputId": "fb67050f-61e2-4598-c384-6a5d00cded39"
      },
      "execution_count": 446,
      "outputs": [
        {
          "output_type": "stream",
          "name": "stdout",
          "text": [
            "3/3 [==============================] - 0s 4ms/step - loss: 0.3883 - Accuracy: 0.7792\n"
          ]
        },
        {
          "output_type": "execute_result",
          "data": {
            "text/plain": [
              "[0.3883114457130432, 0.7792207598686218]"
            ]
          },
          "metadata": {},
          "execution_count": 446
        }
      ]
    },
    {
      "cell_type": "code",
      "source": [
        "plt.plot(history.history['loss'], label=\"Training Loss\", color=\"red\")\n",
        "plt.plot(history.history['val_loss'], label=\"Validation Loss\", color=\"blue\")\n",
        "plt.title(\"Loss of the Model\")\n",
        "plt.legend()\n",
        "plt.xlabel(\"Epochs\")\n",
        "plt.ylabel(\"Loss\")\n",
        "plt.show()"
      ],
      "metadata": {
        "colab": {
          "base_uri": "https://localhost:8080/",
          "height": 295
        },
        "id": "c733h2Q8mazo",
        "outputId": "688ce240-758c-4688-cd8e-8007ebdfc89e"
      },
      "execution_count": 447,
      "outputs": [
        {
          "output_type": "display_data",
          "data": {
            "text/plain": [
              "<Figure size 432x288 with 1 Axes>"
            ],
            "image/png": "[encoded data removed]"
          },
          "metadata": {
            "needs_background": "light"
          }
        }
      ]
    },
    {
      "cell_type": "markdown",
      "source": [
        "Accuracy of around 78%"
      ],
      "metadata": {
        "id": "6OeeY673qdwC"
      }
    },
    {
      "cell_type": "code",
      "source": [],
      "metadata": {
        "id": "0Wy3CLG6nTgR"
      },
      "execution_count": null,
      "outputs": []
    }
  ]
}