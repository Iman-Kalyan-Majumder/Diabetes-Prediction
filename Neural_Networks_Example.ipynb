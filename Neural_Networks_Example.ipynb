{
  "nbformat": 4,
  "nbformat_minor": 0,
  "metadata": {
    "colab": {
      "name": "Neural_Networks_Example.ipynb",
      "provenance": [],
      "collapsed_sections": [],
      "authorship_tag": "ABX9TyPzM9vsF59NEyAujfMoyMAS",
      "include_colab_link": true
    },
    "kernelspec": {
      "name": "python3",
      "display_name": "Python 3"
    },
    "language_info": {
      "name": "python"
    }
  },
  "cells": [
    {
      "cell_type": "markdown",
      "metadata": {
        "id": "view-in-github",
        "colab_type": "text"
      },
      "source": [
        "<a href=\"https://colab.research.google.com/github/Iman-Kalyan-Majumder/Diabetes-Prediction/blob/main/Neural_Networks_Example.ipynb\" target=\"_parent\"><img src=\"https://colab.research.google.com/assets/colab-badge.svg\" alt=\"Open In Colab\"/></a>"
      ]
    },
    {
      "cell_type": "code",
      "execution_count": 2,
      "metadata": {
        "id": "HFQoAHDl7zoD"
      },
      "outputs": [],
      "source": [
        "import numpy as np\n",
        "import pandas as pd\n",
        "import matplotlib.pyplot as plt\n",
        "import tensorflow as tf\n",
        "from sklearn.model_selection import train_test_split\n",
        "from sklearn.preprocessing import StandardScaler\n",
        "from imblearn.over_sampling import RandomOverSampler"
      ]
    },
    {
      "cell_type": "code",
      "source": [
        "df = pd.read_csv(\"diabetes(1).csv\")\n",
        "df.head()"
      ],
      "metadata": {
        "colab": {
          "base_uri": "https://localhost:8080/",
          "height": 206
        },
        "id": "0lkGMfGj7-9A",
        "outputId": "b3402c39-7449-4e17-8ca1-a4c0f9ce8f8d"
      },
      "execution_count": 3,
      "outputs": [
        {
          "output_type": "execute_result",
          "data": {
            "text/plain": [
              "   Pregnancies  Glucose  BloodPressure  SkinThickness  Insulin   BMI  \\\n",
              "0            6      148             72             35        0  33.6   \n",
              "1            1       85             66             29        0  26.6   \n",
              "2            8      183             64              0        0  23.3   \n",
              "3            1       89             66             23       94  28.1   \n",
              "4            0      137             40             35      168  43.1   \n",
              "\n",
              "   DiabetesPedigreeFunction  Age  Outcome  \n",
              "0                     0.627   50        1  \n",
              "1                     0.351   31        0  \n",
              "2                     0.672   32        1  \n",
              "3                     0.167   21        0  \n",
              "4                     2.288   33        1  "
            ],
            "text/html": [
              "\n",
              "  <div id=\"df-957075dd-3a8f-4df9-b368-b7208fbb9bdf\">\n",
              "    <div class=\"colab-df-container\">\n",
              "      <div>\n",
              "<style scoped>\n",
              "    .dataframe tbody tr th:only-of-type {\n",
              "        vertical-align: middle;\n",
              "    }\n",
              "\n",
              "    .dataframe tbody tr th {\n",
              "        vertical-align: top;\n",
              "    }\n",
              "\n",
              "    .dataframe thead th {\n",
              "        text-align: right;\n",
              "    }\n",
              "</style>\n",
              "<table border=\"1\" class=\"dataframe\">\n",
              "  <thead>\n",
              "    <tr style=\"text-align: right;\">\n",
              "      <th></th>\n",
              "      <th>Pregnancies</th>\n",
              "      <th>Glucose</th>\n",
              "      <th>BloodPressure</th>\n",
              "      <th>SkinThickness</th>\n",
              "      <th>Insulin</th>\n",
              "      <th>BMI</th>\n",
              "      <th>DiabetesPedigreeFunction</th>\n",
              "      <th>Age</th>\n",
              "      <th>Outcome</th>\n",
              "    </tr>\n",
              "  </thead>\n",
              "  <tbody>\n",
              "    <tr>\n",
              "      <th>0</th>\n",
              "      <td>6</td>\n",
              "      <td>148</td>\n",
              "      <td>72</td>\n",
              "      <td>35</td>\n",
              "      <td>0</td>\n",
              "      <td>33.6</td>\n",
              "      <td>0.627</td>\n",
              "      <td>50</td>\n",
              "      <td>1</td>\n",
              "    </tr>\n",
              "    <tr>\n",
              "      <th>1</th>\n",
              "      <td>1</td>\n",
              "      <td>85</td>\n",
              "      <td>66</td>\n",
              "      <td>29</td>\n",
              "      <td>0</td>\n",
              "      <td>26.6</td>\n",
              "      <td>0.351</td>\n",
              "      <td>31</td>\n",
              "      <td>0</td>\n",
              "    </tr>\n",
              "    <tr>\n",
              "      <th>2</th>\n",
              "      <td>8</td>\n",
              "      <td>183</td>\n",
              "      <td>64</td>\n",
              "      <td>0</td>\n",
              "      <td>0</td>\n",
              "      <td>23.3</td>\n",
              "      <td>0.672</td>\n",
              "      <td>32</td>\n",
              "      <td>1</td>\n",
              "    </tr>\n",
              "    <tr>\n",
              "      <th>3</th>\n",
              "      <td>1</td>\n",
              "      <td>89</td>\n",
              "      <td>66</td>\n",
              "      <td>23</td>\n",
              "      <td>94</td>\n",
              "      <td>28.1</td>\n",
              "      <td>0.167</td>\n",
              "      <td>21</td>\n",
              "      <td>0</td>\n",
              "    </tr>\n",
              "    <tr>\n",
              "      <th>4</th>\n",
              "      <td>0</td>\n",
              "      <td>137</td>\n",
              "      <td>40</td>\n",
              "      <td>35</td>\n",
              "      <td>168</td>\n",
              "      <td>43.1</td>\n",
              "      <td>2.288</td>\n",
              "      <td>33</td>\n",
              "      <td>1</td>\n",
              "    </tr>\n",
              "  </tbody>\n",
              "</table>\n",
              "</div>\n",
              "      <button class=\"colab-df-convert\" onclick=\"convertToInteractive('df-957075dd-3a8f-4df9-b368-b7208fbb9bdf')\"\n",
              "              title=\"Convert this dataframe to an interactive table.\"\n",
              "              style=\"display:none;\">\n",
              "        \n",
              "  <svg xmlns=\"http://www.w3.org/2000/svg\" height=\"24px\"viewBox=\"0 0 24 24\"\n",
              "       width=\"24px\">\n",
              "    <path d=\"M0 0h24v24H0V0z\" fill=\"none\"/>\n",
              "    <path d=\"M18.56 5.44l.94 2.06.94-2.06 2.06-.94-2.06-.94-.94-2.06-.94 2.06-2.06.94zm-11 1L8.5 8.5l.94-2.06 2.06-.94-2.06-.94L8.5 2.5l-.94 2.06-2.06.94zm10 10l.94 2.06.94-2.06 2.06-.94-2.06-.94-.94-2.06-.94 2.06-2.06.94z\"/><path d=\"M17.41 7.96l-1.37-1.37c-.4-.4-.92-.59-1.43-.59-.52 0-1.04.2-1.43.59L10.3 9.45l-7.72 7.72c-.78.78-.78 2.05 0 2.83L4 21.41c.39.39.9.59 1.41.59.51 0 1.02-.2 1.41-.59l7.78-7.78 2.81-2.81c.8-.78.8-2.07 0-2.86zM5.41 20L4 18.59l7.72-7.72 1.47 1.35L5.41 20z\"/>\n",
              "  </svg>\n",
              "      </button>\n",
              "      \n",
              "  <style>\n",
              "    .colab-df-container {\n",
              "      display:flex;\n",
              "      flex-wrap:wrap;\n",
              "      gap: 12px;\n",
              "    }\n",
              "\n",
              "    .colab-df-convert {\n",
              "      background-color: #E8F0FE;\n",
              "      border: none;\n",
              "      border-radius: 50%;\n",
              "      cursor: pointer;\n",
              "      display: none;\n",
              "      fill: #1967D2;\n",
              "      height: 32px;\n",
              "      padding: 0 0 0 0;\n",
              "      width: 32px;\n",
              "    }\n",
              "\n",
              "    .colab-df-convert:hover {\n",
              "      background-color: #E2EBFA;\n",
              "      box-shadow: 0px 1px 2px rgba(60, 64, 67, 0.3), 0px 1px 3px 1px rgba(60, 64, 67, 0.15);\n",
              "      fill: #174EA6;\n",
              "    }\n",
              "\n",
              "    [theme=dark] .colab-df-convert {\n",
              "      background-color: #3B4455;\n",
              "      fill: #D2E3FC;\n",
              "    }\n",
              "\n",
              "    [theme=dark] .colab-df-convert:hover {\n",
              "      background-color: #434B5C;\n",
              "      box-shadow: 0px 1px 3px 1px rgba(0, 0, 0, 0.15);\n",
              "      filter: drop-shadow(0px 1px 2px rgba(0, 0, 0, 0.3));\n",
              "      fill: #FFFFFF;\n",
              "    }\n",
              "  </style>\n",
              "\n",
              "      <script>\n",
              "        const buttonEl =\n",
              "          document.querySelector('#df-957075dd-3a8f-4df9-b368-b7208fbb9bdf button.colab-df-convert');\n",
              "        buttonEl.style.display =\n",
              "          google.colab.kernel.accessAllowed ? 'block' : 'none';\n",
              "\n",
              "        async function convertToInteractive(key) {\n",
              "          const element = document.querySelector('#df-957075dd-3a8f-4df9-b368-b7208fbb9bdf');\n",
              "          const dataTable =\n",
              "            await google.colab.kernel.invokeFunction('convertToInteractive',\n",
              "                                                     [key], {});\n",
              "          if (!dataTable) return;\n",
              "\n",
              "          const docLinkHtml = 'Like what you see? Visit the ' +\n",
              "            '<a target=\"_blank\" href=https://colab.research.google.com/notebooks/data_table.ipynb>data table notebook</a>'\n",
              "            + ' to learn more about interactive tables.';\n",
              "          element.innerHTML = '';\n",
              "          dataTable['output_type'] = 'display_data';\n",
              "          await google.colab.output.renderOutput(dataTable, element);\n",
              "          const docLink = document.createElement('div');\n",
              "          docLink.innerHTML = docLinkHtml;\n",
              "          element.appendChild(docLink);\n",
              "        }\n",
              "      </script>\n",
              "    </div>\n",
              "  </div>\n",
              "  "
            ]
          },
          "metadata": {},
          "execution_count": 3
        }
      ]
    },
    {
      "cell_type": "code",
      "source": [
        "for i in range(len(df.columns[:-1])):\n",
        "  label=df.columns[i]\n",
        "  plt.hist(df[df['Outcome']==1][label], color='blue', label='Diabetes', alpha=0.5, density=True, bins=15)\n",
        "  plt.hist(df[df['Outcome']==0][label], color='red', label='No Diabetes', alpha=0.5, density=True, bins=15)\n",
        "  plt.title(label)\n",
        "  plt.ylabel(\"Probability\")\n",
        "  plt.xlabel(label)\n",
        "  plt.legend()\n",
        "  plt.show()"
      ],
      "metadata": {
        "id": "04C26dXT8lMf",
        "colab": {
          "base_uri": "https://localhost:8080/",
          "height": 1000
        },
        "outputId": "1f28fec0-6883-4623-97d5-b81893acb85f"
      },
      "execution_count": 4,
      "outputs": [
        {
          "output_type": "display_data",
          "data": {
            "text/plain": [
              "<Figure size 432x288 with 1 Axes>"
            ],
            "image/png": "[encoded data removed]"
          },
          "metadata": {
            "needs_background": "light"
          }
        },
        {
          "output_type": "display_data",
          "data": {
            "text/plain": [
              "<Figure size 432x288 with 1 Axes>"
            ],
            "image/png": "[encoded data removed]"
          },
          "metadata": {
            "needs_background": "light"
          }
        },
        {
          "output_type": "display_data",
          "data": {
            "text/plain": [
              "<Figure size 432x288 with 1 Axes>"
            ],
            "image/png": "[encoded data removed]"
          },
          "metadata": {
            "needs_background": "light"
          }
        },
        {
          "output_type": "display_data",
          "data": {
            "text/plain": [
              "<Figure size 432x288 with 1 Axes>"
            ],
            "image/png": "[encoded data removed]"
          },
          "metadata": {
            "needs_background": "light"
          }
        },
        {
          "output_type": "display_data",
          "data": {
            "text/plain": [
              "<Figure size 432x288 with 1 Axes>"
            ],
            "image/png": "[encoded data removed]"
          },
          "metadata": {
            "needs_background": "light"
          }
        },
        {
          "output_type": "display_data",
          "data": {
            "text/plain": [
              "<Figure size 432x288 with 1 Axes>"
            ],
            "image/png": "[encoded data removed]"
          },
          "metadata": {
            "needs_background": "light"
          }
        },
        {
          "output_type": "display_data",
          "data": {
            "text/plain": [
              "<Figure size 432x288 with 1 Axes>"
            ],
            "image/png": "[encoded data removed]"
          },
          "metadata": {
            "needs_background": "light"
          }
        },
        {
          "output_type": "display_data",
          "data": {
            "text/plain": [
              "<Figure size 432x288 with 1 Axes>"
            ],
            "image/png": "[encoded data removed]"
          },
          "metadata": {
            "needs_background": "light"
          }
        }
      ]
    },
    {
      "cell_type": "code",
      "source": [
        "len(df[df['Outcome']==1]),len(df[df['Outcome']==0])"
      ],
      "metadata": {
        "colab": {
          "base_uri": "https://localhost:8080/"
        },
        "id": "DcS--3z9-Gck",
        "outputId": "d5e4c5b9-3bff-4e1e-94b8-814b9c89ce82"
      },
      "execution_count": 5,
      "outputs": [
        {
          "output_type": "execute_result",
          "data": {
            "text/plain": [
              "(268, 500)"
            ]
          },
          "metadata": {},
          "execution_count": 5
        }
      ]
    },
    {
      "cell_type": "code",
      "source": [
        "scaler = StandardScaler()\n",
        "X = df[df.columns[:-1]].values\n",
        "X = scaler.fit_transform(X)\n",
        "y=df[df.columns[-1]].values\n",
        "over = RandomOverSampler()\n",
        "X , y = over.fit_resample(X,y)\n",
        "data = np.hstack((X, np.reshape(y,(-1,1))))\n",
        "df_transformed = pd.DataFrame(data, columns=df.columns)\n",
        "\n",
        "len(df_transformed[df_transformed['Outcome']==1]), len(df_transformed[df_transformed['Outcome']==1])"
      ],
      "metadata": {
        "colab": {
          "base_uri": "https://localhost:8080/"
        },
        "id": "5dIoDYcQ_rJL",
        "outputId": "5a93a3c4-8cd7-482b-bce3-531eaa234063"
      },
      "execution_count": 6,
      "outputs": [
        {
          "output_type": "execute_result",
          "data": {
            "text/plain": [
              "(500, 500)"
            ]
          },
          "metadata": {},
          "execution_count": 6
        }
      ]
    },
    {
      "cell_type": "code",
      "source": [
        "X_train, X_temp, y_train, y_temp = train_test_split(X,y,test_size=0.3,random_state=0)"
      ],
      "metadata": {
        "id": "vevMtTyXAvpH"
      },
      "execution_count": 108,
      "outputs": []
    },
    {
      "cell_type": "code",
      "source": [
        "X_valid, X_test, y_valid, y_test = train_test_split(X_temp,y_temp,test_size=0.5,random_state=0)"
      ],
      "metadata": {
        "id": "N6wo4ftiB2iz"
      },
      "execution_count": 109,
      "outputs": []
    },
    {
      "cell_type": "code",
      "source": [
        "model=tf.keras.Sequential([\n",
        "    tf.keras.layers.BatchNormalization(),\n",
        "    tf.keras.layers.Dense(16, activation=\"relu\"),\n",
        "    tf.keras.layers.Dropout(rate=0.1),\n",
        "    tf.keras.layers.BatchNormalization(),\n",
        "    tf.keras.layers.Dense(16, activation=\"relu\"),\n",
        "    tf.keras.layers.Dropout(rate=0.1),\n",
        "    tf.keras.layers.Dense(1, activation=\"sigmoid\")\n",
        "])"
      ],
      "metadata": {
        "id": "eAsrp5zrCKV3"
      },
      "execution_count": 99,
      "outputs": []
    },
    {
      "cell_type": "code",
      "source": [
        "model.compile(\n",
        "              optimizer=tf.keras.optimizers.Adam(learning_rate=0.0015),\n",
        "              loss=tf.keras.losses.BinaryCrossentropy(),\n",
        "              metrics=['Accuracy']\n",
        ")"
      ],
      "metadata": {
        "id": "UEglmRpADgvM"
      },
      "execution_count": 113,
      "outputs": []
    },
    {
      "cell_type": "code",
      "source": [
        "early_stopping=tf.keras.callbacks.EarlyStopping(\n",
        "    patience=100,\n",
        "    min_delta=0.001,\n",
        "    restore_best_weights=True\n",
        ")"
      ],
      "metadata": {
        "id": "0HvszlIA1-Q_"
      },
      "execution_count": 110,
      "outputs": []
    },
    {
      "cell_type": "code",
      "source": [
        "model.evaluate(X_train,y_train)"
      ],
      "metadata": {
        "colab": {
          "base_uri": "https://localhost:8080/"
        },
        "id": "sHT84FJaEfsX",
        "outputId": "1be4d124-03f7-4ff9-ec89-40003ae38d29"
      },
      "execution_count": 24,
      "outputs": [
        {
          "output_type": "stream",
          "name": "stdout",
          "text": [
            "22/22 [==============================] - 0s 2ms/step - loss: 0.7052 - Accuracy: 0.4743\n"
          ]
        },
        {
          "output_type": "execute_result",
          "data": {
            "text/plain": [
              "[0.7051635980606079, 0.47428572177886963]"
            ]
          },
          "metadata": {},
          "execution_count": 24
        }
      ]
    },
    {
      "cell_type": "code",
      "source": [
        "model.evaluate(X_valid,y_valid)"
      ],
      "metadata": {
        "colab": {
          "base_uri": "https://localhost:8080/"
        },
        "id": "Se2ffKNbEyAZ",
        "outputId": "39a4d4d6-57e9-4e32-f3f2-d78b98f7bc96"
      },
      "execution_count": 25,
      "outputs": [
        {
          "output_type": "stream",
          "name": "stdout",
          "text": [
            "5/5 [==============================] - 0s 4ms/step - loss: 0.7104 - Accuracy: 0.4733\n"
          ]
        },
        {
          "output_type": "execute_result",
          "data": {
            "text/plain": [
              "[0.7104178071022034, 0.47333332896232605]"
            ]
          },
          "metadata": {},
          "execution_count": 25
        }
      ]
    },
    {
      "cell_type": "code",
      "source": [
        "history = model.fit(\n",
        "    X_train,\n",
        "    y_train,\n",
        "    batch_size=15,\n",
        "    epochs=200,\n",
        "    validation_data=(X_valid,y_valid),\n",
        "    callbacks=[early_stopping]\n",
        ")"
      ],
      "metadata": {
        "colab": {
          "base_uri": "https://localhost:8080/"
        },
        "id": "_nkLCEAYE7ZD",
        "outputId": "4815a545-61f0-42a2-c8ed-e7db92c718f3"
      },
      "execution_count": 124,
      "outputs": [
        {
          "output_type": "stream",
          "name": "stdout",
          "text": [
            "Epoch 1/200\n",
            "47/47 [==============================] - 0s 9ms/step - loss: 0.4474 - Accuracy: 0.7943 - val_loss: 0.4502 - val_Accuracy: 0.8200\n",
            "Epoch 2/200\n",
            "47/47 [==============================] - 0s 5ms/step - loss: 0.4463 - Accuracy: 0.7886 - val_loss: 0.4513 - val_Accuracy: 0.8267\n",
            "Epoch 3/200\n",
            "47/47 [==============================] - 0s 5ms/step - loss: 0.4448 - Accuracy: 0.7900 - val_loss: 0.4544 - val_Accuracy: 0.8400\n",
            "Epoch 4/200\n",
            "47/47 [==============================] - 0s 6ms/step - loss: 0.4335 - Accuracy: 0.7929 - val_loss: 0.4516 - val_Accuracy: 0.8467\n",
            "Epoch 5/200\n",
            "47/47 [==============================] - 0s 6ms/step - loss: 0.4315 - Accuracy: 0.8157 - val_loss: 0.4517 - val_Accuracy: 0.8467\n",
            "Epoch 6/200\n",
            "47/47 [==============================] - 0s 7ms/step - loss: 0.4549 - Accuracy: 0.7714 - val_loss: 0.4625 - val_Accuracy: 0.8467\n",
            "Epoch 7/200\n",
            "47/47 [==============================] - 0s 6ms/step - loss: 0.4690 - Accuracy: 0.7643 - val_loss: 0.4549 - val_Accuracy: 0.8467\n",
            "Epoch 8/200\n",
            "47/47 [==============================] - 0s 6ms/step - loss: 0.4371 - Accuracy: 0.7900 - val_loss: 0.4503 - val_Accuracy: 0.8333\n",
            "Epoch 9/200\n",
            "47/47 [==============================] - 0s 6ms/step - loss: 0.4481 - Accuracy: 0.7757 - val_loss: 0.4485 - val_Accuracy: 0.8133\n",
            "Epoch 10/200\n",
            "47/47 [==============================] - 0s 5ms/step - loss: 0.4575 - Accuracy: 0.8057 - val_loss: 0.4452 - val_Accuracy: 0.8267\n",
            "Epoch 11/200\n",
            "47/47 [==============================] - 1s 11ms/step - loss: 0.4484 - Accuracy: 0.7900 - val_loss: 0.4577 - val_Accuracy: 0.8200\n",
            "Epoch 12/200\n",
            "47/47 [==============================] - 0s 7ms/step - loss: 0.4682 - Accuracy: 0.7871 - val_loss: 0.4418 - val_Accuracy: 0.8267\n",
            "Epoch 13/200\n",
            "47/47 [==============================] - 0s 3ms/step - loss: 0.4383 - Accuracy: 0.8043 - val_loss: 0.4381 - val_Accuracy: 0.8267\n",
            "Epoch 14/200\n",
            "47/47 [==============================] - 0s 3ms/step - loss: 0.4553 - Accuracy: 0.7857 - val_loss: 0.4476 - val_Accuracy: 0.8267\n",
            "Epoch 15/200\n",
            "47/47 [==============================] - 0s 3ms/step - loss: 0.4706 - Accuracy: 0.7743 - val_loss: 0.4497 - val_Accuracy: 0.8200\n",
            "Epoch 16/200\n",
            "47/47 [==============================] - 0s 3ms/step - loss: 0.4330 - Accuracy: 0.8043 - val_loss: 0.4517 - val_Accuracy: 0.8400\n",
            "Epoch 17/200\n",
            "47/47 [==============================] - 0s 3ms/step - loss: 0.4602 - Accuracy: 0.7829 - val_loss: 0.4493 - val_Accuracy: 0.8333\n",
            "Epoch 18/200\n",
            "47/47 [==============================] - 0s 3ms/step - loss: 0.4442 - Accuracy: 0.7757 - val_loss: 0.4534 - val_Accuracy: 0.8267\n",
            "Epoch 19/200\n",
            "47/47 [==============================] - 0s 3ms/step - loss: 0.4621 - Accuracy: 0.7700 - val_loss: 0.4651 - val_Accuracy: 0.8267\n",
            "Epoch 20/200\n",
            "47/47 [==============================] - 0s 3ms/step - loss: 0.4884 - Accuracy: 0.7657 - val_loss: 0.4671 - val_Accuracy: 0.8333\n",
            "Epoch 21/200\n",
            "47/47 [==============================] - 0s 3ms/step - loss: 0.4605 - Accuracy: 0.7843 - val_loss: 0.4633 - val_Accuracy: 0.8133\n",
            "Epoch 22/200\n",
            "47/47 [==============================] - 0s 3ms/step - loss: 0.4607 - Accuracy: 0.7714 - val_loss: 0.4579 - val_Accuracy: 0.8200\n",
            "Epoch 23/200\n",
            "47/47 [==============================] - 0s 3ms/step - loss: 0.4572 - Accuracy: 0.7871 - val_loss: 0.4561 - val_Accuracy: 0.8200\n",
            "Epoch 24/200\n",
            "47/47 [==============================] - 0s 3ms/step - loss: 0.4629 - Accuracy: 0.7800 - val_loss: 0.4555 - val_Accuracy: 0.8200\n",
            "Epoch 25/200\n",
            "47/47 [==============================] - 0s 3ms/step - loss: 0.4481 - Accuracy: 0.8043 - val_loss: 0.4528 - val_Accuracy: 0.8200\n",
            "Epoch 26/200\n",
            "47/47 [==============================] - 0s 3ms/step - loss: 0.4287 - Accuracy: 0.8071 - val_loss: 0.4489 - val_Accuracy: 0.8333\n",
            "Epoch 27/200\n",
            "47/47 [==============================] - 0s 3ms/step - loss: 0.4384 - Accuracy: 0.8114 - val_loss: 0.4514 - val_Accuracy: 0.8200\n",
            "Epoch 28/200\n",
            "47/47 [==============================] - 0s 3ms/step - loss: 0.4571 - Accuracy: 0.7943 - val_loss: 0.4524 - val_Accuracy: 0.8267\n",
            "Epoch 29/200\n",
            "47/47 [==============================] - 0s 3ms/step - loss: 0.4577 - Accuracy: 0.7814 - val_loss: 0.4495 - val_Accuracy: 0.8133\n",
            "Epoch 30/200\n",
            "47/47 [==============================] - 0s 3ms/step - loss: 0.4674 - Accuracy: 0.7743 - val_loss: 0.4534 - val_Accuracy: 0.8267\n",
            "Epoch 31/200\n",
            "47/47 [==============================] - 0s 3ms/step - loss: 0.4654 - Accuracy: 0.7900 - val_loss: 0.4544 - val_Accuracy: 0.8333\n",
            "Epoch 32/200\n",
            "47/47 [==============================] - 0s 3ms/step - loss: 0.4562 - Accuracy: 0.7800 - val_loss: 0.4541 - val_Accuracy: 0.8400\n",
            "Epoch 33/200\n",
            "47/47 [==============================] - 0s 3ms/step - loss: 0.4521 - Accuracy: 0.7843 - val_loss: 0.4552 - val_Accuracy: 0.8467\n",
            "Epoch 34/200\n",
            "47/47 [==============================] - 0s 3ms/step - loss: 0.4561 - Accuracy: 0.8129 - val_loss: 0.4563 - val_Accuracy: 0.8267\n",
            "Epoch 35/200\n",
            "47/47 [==============================] - 0s 3ms/step - loss: 0.4252 - Accuracy: 0.8043 - val_loss: 0.4543 - val_Accuracy: 0.8400\n",
            "Epoch 36/200\n",
            "47/47 [==============================] - 0s 3ms/step - loss: 0.4444 - Accuracy: 0.7886 - val_loss: 0.4511 - val_Accuracy: 0.8533\n",
            "Epoch 37/200\n",
            "47/47 [==============================] - 0s 3ms/step - loss: 0.4630 - Accuracy: 0.7800 - val_loss: 0.4502 - val_Accuracy: 0.8400\n",
            "Epoch 38/200\n",
            "47/47 [==============================] - 0s 3ms/step - loss: 0.4397 - Accuracy: 0.7971 - val_loss: 0.4524 - val_Accuracy: 0.8467\n",
            "Epoch 39/200\n",
            "47/47 [==============================] - 0s 3ms/step - loss: 0.4305 - Accuracy: 0.7971 - val_loss: 0.4514 - val_Accuracy: 0.8333\n",
            "Epoch 40/200\n",
            "47/47 [==============================] - 0s 3ms/step - loss: 0.4422 - Accuracy: 0.7971 - val_loss: 0.4588 - val_Accuracy: 0.8333\n",
            "Epoch 41/200\n",
            "47/47 [==============================] - 0s 3ms/step - loss: 0.4511 - Accuracy: 0.7771 - val_loss: 0.4556 - val_Accuracy: 0.8467\n",
            "Epoch 42/200\n",
            "47/47 [==============================] - 0s 3ms/step - loss: 0.4475 - Accuracy: 0.7843 - val_loss: 0.4499 - val_Accuracy: 0.8267\n",
            "Epoch 43/200\n",
            "47/47 [==============================] - 0s 3ms/step - loss: 0.4451 - Accuracy: 0.7986 - val_loss: 0.4520 - val_Accuracy: 0.8200\n",
            "Epoch 44/200\n",
            "47/47 [==============================] - 0s 3ms/step - loss: 0.4374 - Accuracy: 0.7829 - val_loss: 0.4623 - val_Accuracy: 0.8200\n",
            "Epoch 45/200\n",
            "47/47 [==============================] - 0s 3ms/step - loss: 0.4434 - Accuracy: 0.7871 - val_loss: 0.4521 - val_Accuracy: 0.8067\n",
            "Epoch 46/200\n",
            "47/47 [==============================] - 0s 3ms/step - loss: 0.4797 - Accuracy: 0.7814 - val_loss: 0.4510 - val_Accuracy: 0.7867\n",
            "Epoch 47/200\n",
            "47/47 [==============================] - 0s 3ms/step - loss: 0.4274 - Accuracy: 0.7914 - val_loss: 0.4544 - val_Accuracy: 0.8133\n",
            "Epoch 48/200\n",
            "47/47 [==============================] - 0s 3ms/step - loss: 0.4290 - Accuracy: 0.8114 - val_loss: 0.4500 - val_Accuracy: 0.8133\n",
            "Epoch 49/200\n",
            "47/47 [==============================] - 0s 3ms/step - loss: 0.4757 - Accuracy: 0.7714 - val_loss: 0.4469 - val_Accuracy: 0.8200\n",
            "Epoch 50/200\n",
            "47/47 [==============================] - 0s 3ms/step - loss: 0.4564 - Accuracy: 0.7829 - val_loss: 0.4516 - val_Accuracy: 0.8200\n",
            "Epoch 51/200\n",
            "47/47 [==============================] - 0s 3ms/step - loss: 0.4513 - Accuracy: 0.7857 - val_loss: 0.4508 - val_Accuracy: 0.8067\n",
            "Epoch 52/200\n",
            "47/47 [==============================] - 0s 3ms/step - loss: 0.4568 - Accuracy: 0.7986 - val_loss: 0.4508 - val_Accuracy: 0.8200\n",
            "Epoch 53/200\n",
            "47/47 [==============================] - 0s 3ms/step - loss: 0.4410 - Accuracy: 0.7943 - val_loss: 0.4635 - val_Accuracy: 0.8133\n",
            "Epoch 54/200\n",
            "47/47 [==============================] - 0s 3ms/step - loss: 0.4549 - Accuracy: 0.7786 - val_loss: 0.4547 - val_Accuracy: 0.8333\n",
            "Epoch 55/200\n",
            "47/47 [==============================] - 0s 3ms/step - loss: 0.4618 - Accuracy: 0.7814 - val_loss: 0.4728 - val_Accuracy: 0.8133\n",
            "Epoch 56/200\n",
            "47/47 [==============================] - 0s 3ms/step - loss: 0.4603 - Accuracy: 0.8029 - val_loss: 0.4616 - val_Accuracy: 0.8133\n",
            "Epoch 57/200\n",
            "47/47 [==============================] - 0s 3ms/step - loss: 0.4479 - Accuracy: 0.7929 - val_loss: 0.4456 - val_Accuracy: 0.8067\n",
            "Epoch 58/200\n",
            "47/47 [==============================] - 0s 3ms/step - loss: 0.4361 - Accuracy: 0.8057 - val_loss: 0.4413 - val_Accuracy: 0.8200\n",
            "Epoch 59/200\n",
            "47/47 [==============================] - 0s 3ms/step - loss: 0.4527 - Accuracy: 0.7943 - val_loss: 0.4392 - val_Accuracy: 0.8133\n",
            "Epoch 60/200\n",
            "47/47 [==============================] - 0s 3ms/step - loss: 0.4468 - Accuracy: 0.7871 - val_loss: 0.4417 - val_Accuracy: 0.8133\n",
            "Epoch 61/200\n",
            "47/47 [==============================] - 0s 3ms/step - loss: 0.4676 - Accuracy: 0.7757 - val_loss: 0.4446 - val_Accuracy: 0.8333\n",
            "Epoch 62/200\n",
            "47/47 [==============================] - 0s 3ms/step - loss: 0.4505 - Accuracy: 0.7957 - val_loss: 0.4454 - val_Accuracy: 0.8267\n",
            "Epoch 63/200\n",
            "47/47 [==============================] - 0s 3ms/step - loss: 0.4653 - Accuracy: 0.7771 - val_loss: 0.4455 - val_Accuracy: 0.8267\n",
            "Epoch 64/200\n",
            "47/47 [==============================] - 0s 3ms/step - loss: 0.4491 - Accuracy: 0.7957 - val_loss: 0.4508 - val_Accuracy: 0.8267\n",
            "Epoch 65/200\n",
            "47/47 [==============================] - 0s 3ms/step - loss: 0.4448 - Accuracy: 0.8029 - val_loss: 0.4462 - val_Accuracy: 0.8333\n",
            "Epoch 66/200\n",
            "47/47 [==============================] - 0s 3ms/step - loss: 0.4294 - Accuracy: 0.7986 - val_loss: 0.4527 - val_Accuracy: 0.8333\n",
            "Epoch 67/200\n",
            "47/47 [==============================] - 0s 3ms/step - loss: 0.4691 - Accuracy: 0.7743 - val_loss: 0.4577 - val_Accuracy: 0.8333\n",
            "Epoch 68/200\n",
            "47/47 [==============================] - 0s 3ms/step - loss: 0.4414 - Accuracy: 0.7886 - val_loss: 0.4545 - val_Accuracy: 0.8333\n",
            "Epoch 69/200\n",
            "47/47 [==============================] - 0s 3ms/step - loss: 0.4394 - Accuracy: 0.7900 - val_loss: 0.4558 - val_Accuracy: 0.8400\n",
            "Epoch 70/200\n",
            "47/47 [==============================] - 0s 3ms/step - loss: 0.4707 - Accuracy: 0.7700 - val_loss: 0.4558 - val_Accuracy: 0.8400\n",
            "Epoch 71/200\n",
            "47/47 [==============================] - 0s 3ms/step - loss: 0.4461 - Accuracy: 0.7986 - val_loss: 0.4529 - val_Accuracy: 0.8333\n",
            "Epoch 72/200\n",
            "47/47 [==============================] - 0s 3ms/step - loss: 0.4346 - Accuracy: 0.7957 - val_loss: 0.4585 - val_Accuracy: 0.8333\n",
            "Epoch 73/200\n",
            "47/47 [==============================] - 0s 3ms/step - loss: 0.4491 - Accuracy: 0.7914 - val_loss: 0.4586 - val_Accuracy: 0.8333\n",
            "Epoch 74/200\n",
            "47/47 [==============================] - 0s 3ms/step - loss: 0.4463 - Accuracy: 0.7971 - val_loss: 0.4602 - val_Accuracy: 0.8333\n",
            "Epoch 75/200\n",
            "47/47 [==============================] - 0s 3ms/step - loss: 0.4561 - Accuracy: 0.7743 - val_loss: 0.4597 - val_Accuracy: 0.8400\n",
            "Epoch 76/200\n",
            "47/47 [==============================] - 0s 3ms/step - loss: 0.4678 - Accuracy: 0.7771 - val_loss: 0.4546 - val_Accuracy: 0.8400\n",
            "Epoch 77/200\n",
            "47/47 [==============================] - 0s 3ms/step - loss: 0.4394 - Accuracy: 0.7757 - val_loss: 0.4559 - val_Accuracy: 0.8400\n",
            "Epoch 78/200\n",
            "47/47 [==============================] - 0s 3ms/step - loss: 0.4354 - Accuracy: 0.7971 - val_loss: 0.4569 - val_Accuracy: 0.8333\n",
            "Epoch 79/200\n",
            "47/47 [==============================] - 0s 3ms/step - loss: 0.4515 - Accuracy: 0.7943 - val_loss: 0.4625 - val_Accuracy: 0.8267\n",
            "Epoch 80/200\n",
            "47/47 [==============================] - 0s 3ms/step - loss: 0.4524 - Accuracy: 0.8014 - val_loss: 0.4622 - val_Accuracy: 0.8333\n",
            "Epoch 81/200\n",
            "47/47 [==============================] - 0s 3ms/step - loss: 0.4562 - Accuracy: 0.7829 - val_loss: 0.4599 - val_Accuracy: 0.8333\n",
            "Epoch 82/200\n",
            "47/47 [==============================] - 0s 3ms/step - loss: 0.4528 - Accuracy: 0.7814 - val_loss: 0.4641 - val_Accuracy: 0.8400\n",
            "Epoch 83/200\n",
            "47/47 [==============================] - 0s 3ms/step - loss: 0.4433 - Accuracy: 0.7971 - val_loss: 0.4635 - val_Accuracy: 0.8267\n",
            "Epoch 84/200\n",
            "47/47 [==============================] - 0s 3ms/step - loss: 0.4407 - Accuracy: 0.7943 - val_loss: 0.4615 - val_Accuracy: 0.8200\n",
            "Epoch 85/200\n",
            "47/47 [==============================] - 0s 3ms/step - loss: 0.4616 - Accuracy: 0.7900 - val_loss: 0.4585 - val_Accuracy: 0.8267\n",
            "Epoch 86/200\n",
            "47/47 [==============================] - 0s 3ms/step - loss: 0.4381 - Accuracy: 0.7900 - val_loss: 0.4522 - val_Accuracy: 0.8333\n",
            "Epoch 87/200\n",
            "47/47 [==============================] - 0s 3ms/step - loss: 0.4477 - Accuracy: 0.7971 - val_loss: 0.4559 - val_Accuracy: 0.8400\n",
            "Epoch 88/200\n",
            "47/47 [==============================] - 0s 3ms/step - loss: 0.4602 - Accuracy: 0.7843 - val_loss: 0.4562 - val_Accuracy: 0.8200\n",
            "Epoch 89/200\n",
            "47/47 [==============================] - 0s 3ms/step - loss: 0.4528 - Accuracy: 0.7814 - val_loss: 0.4555 - val_Accuracy: 0.8267\n",
            "Epoch 90/200\n",
            "47/47 [==============================] - 0s 3ms/step - loss: 0.4697 - Accuracy: 0.7786 - val_loss: 0.4606 - val_Accuracy: 0.8267\n",
            "Epoch 91/200\n",
            "47/47 [==============================] - 0s 3ms/step - loss: 0.4802 - Accuracy: 0.7771 - val_loss: 0.4594 - val_Accuracy: 0.8267\n",
            "Epoch 92/200\n",
            "47/47 [==============================] - 0s 3ms/step - loss: 0.4610 - Accuracy: 0.7900 - val_loss: 0.4578 - val_Accuracy: 0.8267\n",
            "Epoch 93/200\n",
            "47/47 [==============================] - 0s 4ms/step - loss: 0.4351 - Accuracy: 0.8000 - val_loss: 0.4582 - val_Accuracy: 0.8400\n",
            "Epoch 94/200\n",
            "47/47 [==============================] - 0s 4ms/step - loss: 0.4665 - Accuracy: 0.7800 - val_loss: 0.4646 - val_Accuracy: 0.8200\n",
            "Epoch 95/200\n",
            "47/47 [==============================] - 0s 4ms/step - loss: 0.4412 - Accuracy: 0.7900 - val_loss: 0.4642 - val_Accuracy: 0.8267\n",
            "Epoch 96/200\n",
            "47/47 [==============================] - 0s 3ms/step - loss: 0.4511 - Accuracy: 0.7957 - val_loss: 0.4624 - val_Accuracy: 0.8267\n",
            "Epoch 97/200\n",
            "47/47 [==============================] - 0s 3ms/step - loss: 0.4751 - Accuracy: 0.7786 - val_loss: 0.4702 - val_Accuracy: 0.8133\n",
            "Epoch 98/200\n",
            "47/47 [==============================] - 0s 3ms/step - loss: 0.4526 - Accuracy: 0.7900 - val_loss: 0.4665 - val_Accuracy: 0.8200\n",
            "Epoch 99/200\n",
            "47/47 [==============================] - 0s 3ms/step - loss: 0.4433 - Accuracy: 0.7929 - val_loss: 0.4585 - val_Accuracy: 0.8467\n",
            "Epoch 100/200\n",
            "47/47 [==============================] - 0s 3ms/step - loss: 0.4454 - Accuracy: 0.7814 - val_loss: 0.4618 - val_Accuracy: 0.8333\n",
            "Epoch 101/200\n",
            "47/47 [==============================] - 0s 3ms/step - loss: 0.4373 - Accuracy: 0.8043 - val_loss: 0.4640 - val_Accuracy: 0.8267\n",
            "Epoch 102/200\n",
            "47/47 [==============================] - 0s 3ms/step - loss: 0.4244 - Accuracy: 0.7957 - val_loss: 0.4646 - val_Accuracy: 0.8333\n",
            "Epoch 103/200\n",
            "47/47 [==============================] - 0s 3ms/step - loss: 0.4432 - Accuracy: 0.7843 - val_loss: 0.4607 - val_Accuracy: 0.8333\n",
            "Epoch 104/200\n",
            "47/47 [==============================] - 0s 3ms/step - loss: 0.4484 - Accuracy: 0.7900 - val_loss: 0.4553 - val_Accuracy: 0.8333\n",
            "Epoch 105/200\n",
            "47/47 [==============================] - 0s 3ms/step - loss: 0.4743 - Accuracy: 0.7729 - val_loss: 0.4615 - val_Accuracy: 0.8267\n",
            "Epoch 106/200\n",
            "47/47 [==============================] - 0s 3ms/step - loss: 0.4587 - Accuracy: 0.7957 - val_loss: 0.4608 - val_Accuracy: 0.8200\n",
            "Epoch 107/200\n",
            "47/47 [==============================] - 0s 3ms/step - loss: 0.4724 - Accuracy: 0.7686 - val_loss: 0.4563 - val_Accuracy: 0.8200\n",
            "Epoch 108/200\n",
            "47/47 [==============================] - 0s 3ms/step - loss: 0.4489 - Accuracy: 0.7971 - val_loss: 0.4551 - val_Accuracy: 0.8400\n",
            "Epoch 109/200\n",
            "47/47 [==============================] - 0s 3ms/step - loss: 0.4476 - Accuracy: 0.7900 - val_loss: 0.4577 - val_Accuracy: 0.8200\n",
            "Epoch 110/200\n",
            "47/47 [==============================] - 0s 3ms/step - loss: 0.4761 - Accuracy: 0.7657 - val_loss: 0.4541 - val_Accuracy: 0.8400\n",
            "Epoch 111/200\n",
            "47/47 [==============================] - 0s 3ms/step - loss: 0.4466 - Accuracy: 0.8029 - val_loss: 0.4604 - val_Accuracy: 0.8200\n",
            "Epoch 112/200\n",
            "47/47 [==============================] - 0s 3ms/step - loss: 0.4523 - Accuracy: 0.7843 - val_loss: 0.4560 - val_Accuracy: 0.8333\n",
            "Epoch 113/200\n",
            "47/47 [==============================] - 0s 3ms/step - loss: 0.4811 - Accuracy: 0.7514 - val_loss: 0.4518 - val_Accuracy: 0.8333\n"
          ]
        }
      ]
    },
    {
      "cell_type": "code",
      "source": [
        "model.evaluate(X_test,y_test)"
      ],
      "metadata": {
        "colab": {
          "base_uri": "https://localhost:8080/"
        },
        "id": "xTKeEaDfFXhh",
        "outputId": "a7eb655e-f41e-4df7-98c5-d377cf924c09"
      },
      "execution_count": 125,
      "outputs": [
        {
          "output_type": "stream",
          "name": "stdout",
          "text": [
            "5/5 [==============================] - 0s 3ms/step - loss: 0.4340 - Accuracy: 0.8067\n"
          ]
        },
        {
          "output_type": "execute_result",
          "data": {
            "text/plain": [
              "[0.4340164065361023, 0.8066666722297668]"
            ]
          },
          "metadata": {},
          "execution_count": 125
        }
      ]
    },
    {
      "cell_type": "code",
      "source": [
        "plt.plot(history.history['loss'], label='Training Loss', color='yellow')\n",
        "plt.plot(history.history['val_loss'], label='Validation Loss', color='red')\n",
        "plt.title(\"Loss of Model\")\n",
        "plt.ylabel(\"Loss\")\n",
        "plt.xlabel(\"Epoch\")\n",
        "plt.legend()\n",
        "plt.show()"
      ],
      "metadata": {
        "id": "_Vjq6cSOK0GA",
        "colab": {
          "base_uri": "https://localhost:8080/",
          "height": 295
        },
        "outputId": "72dde107-71b1-4b30-ed10-822f678393c1"
      },
      "execution_count": 127,
      "outputs": [
        {
          "output_type": "display_data",
          "data": {
            "text/plain": [
              "<Figure size 432x288 with 1 Axes>"
            ],
            "image/png": "[encoded data removed]"
          },
          "metadata": {
            "needs_background": "light"
          }
        }
      ]
    },
    {
      "cell_type": "code",
      "source": [
        ""
      ],
      "metadata": {
        "id": "yA3F1cui2i_J"
      },
      "execution_count": null,
      "outputs": []
    }
  ]
}