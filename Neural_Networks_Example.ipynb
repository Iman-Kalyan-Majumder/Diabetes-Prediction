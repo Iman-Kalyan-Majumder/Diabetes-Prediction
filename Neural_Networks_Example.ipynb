{
  "nbformat": 4,
  "nbformat_minor": 0,
  "metadata": {
    "colab": {
      "name": "Neural_Networks_Example.ipynb",
      "provenance": [],
      "authorship_tag": "ABX9TyM3zex97PHGnfdmPdXaSTeK",
      "include_colab_link": true
    },
    "kernelspec": {
      "name": "python3",
      "display_name": "Python 3"
    },
    "language_info": {
      "name": "python"
    }
  },
  "cells": [
    {
      "cell_type": "markdown",
      "metadata": {
        "id": "view-in-github",
        "colab_type": "text"
      },
      "source": [
        "<a href=\"https://colab.research.google.com/github/Iman-Kalyan-Majumder/Diabetes-Prediction/blob/main/Neural_Networks_Example.ipynb\" target=\"_parent\"><img src=\"https://colab.research.google.com/assets/colab-badge.svg\" alt=\"Open In Colab\"/></a>"
      ]
    },
    {
      "cell_type": "code",
      "execution_count": null,
      "metadata": {
        "id": "HFQoAHDl7zoD"
      },
      "outputs": [],
      "source": [
        "import numpy as np\n",
        "import pandas as pd\n",
        "import matplotlib.pyplot as plt\n",
        "import tensorflow as tf\n",
        "from sklearn.model_selection import train_test_split\n",
        "from sklearn.preprocessing import StandardScaler\n",
        "from imblearn.over_sampling import RandomOverSampler"
      ]
    },
    {
      "cell_type": "code",
      "source": [
        "df = pd.read_csv(\"diabetes.csv\")\n",
        "df.head()"
      ],
      "metadata": {
        "colab": {
          "base_uri": "https://localhost:8080/",
          "height": 206
        },
        "id": "0lkGMfGj7-9A",
        "outputId": "48cb27c8-a9d9-4170-de49-fdce521b106a"
      },
      "execution_count": null,
      "outputs": [
        {
          "output_type": "execute_result",
          "data": {
            "text/plain": [
              "   Pregnancies  Glucose  BloodPressure  SkinThickness  Insulin   BMI  \\\n",
              "0            6      148             72             35        0  33.6   \n",
              "1            1       85             66             29        0  26.6   \n",
              "2            8      183             64              0        0  23.3   \n",
              "3            1       89             66             23       94  28.1   \n",
              "4            0      137             40             35      168  43.1   \n",
              "\n",
              "   DiabetesPedigreeFunction  Age  Outcome  \n",
              "0                     0.627   50        1  \n",
              "1                     0.351   31        0  \n",
              "2                     0.672   32        1  \n",
              "3                     0.167   21        0  \n",
              "4                     2.288   33        1  "
            ],
            "text/html": [
              "\n",
              "  <div id=\"df-2a601edd-53f9-4098-b49e-0484c4212f9b\">\n",
              "    <div class=\"colab-df-container\">\n",
              "      <div>\n",
              "<style scoped>\n",
              "    .dataframe tbody tr th:only-of-type {\n",
              "        vertical-align: middle;\n",
              "    }\n",
              "\n",
              "    .dataframe tbody tr th {\n",
              "        vertical-align: top;\n",
              "    }\n",
              "\n",
              "    .dataframe thead th {\n",
              "        text-align: right;\n",
              "    }\n",
              "</style>\n",
              "<table border=\"1\" class=\"dataframe\">\n",
              "  <thead>\n",
              "    <tr style=\"text-align: right;\">\n",
              "      <th></th>\n",
              "      <th>Pregnancies</th>\n",
              "      <th>Glucose</th>\n",
              "      <th>BloodPressure</th>\n",
              "      <th>SkinThickness</th>\n",
              "      <th>Insulin</th>\n",
              "      <th>BMI</th>\n",
              "      <th>DiabetesPedigreeFunction</th>\n",
              "      <th>Age</th>\n",
              "      <th>Outcome</th>\n",
              "    </tr>\n",
              "  </thead>\n",
              "  <tbody>\n",
              "    <tr>\n",
              "      <th>0</th>\n",
              "      <td>6</td>\n",
              "      <td>148</td>\n",
              "      <td>72</td>\n",
              "      <td>35</td>\n",
              "      <td>0</td>\n",
              "      <td>33.6</td>\n",
              "      <td>0.627</td>\n",
              "      <td>50</td>\n",
              "      <td>1</td>\n",
              "    </tr>\n",
              "    <tr>\n",
              "      <th>1</th>\n",
              "      <td>1</td>\n",
              "      <td>85</td>\n",
              "      <td>66</td>\n",
              "      <td>29</td>\n",
              "      <td>0</td>\n",
              "      <td>26.6</td>\n",
              "      <td>0.351</td>\n",
              "      <td>31</td>\n",
              "      <td>0</td>\n",
              "    </tr>\n",
              "    <tr>\n",
              "      <th>2</th>\n",
              "      <td>8</td>\n",
              "      <td>183</td>\n",
              "      <td>64</td>\n",
              "      <td>0</td>\n",
              "      <td>0</td>\n",
              "      <td>23.3</td>\n",
              "      <td>0.672</td>\n",
              "      <td>32</td>\n",
              "      <td>1</td>\n",
              "    </tr>\n",
              "    <tr>\n",
              "      <th>3</th>\n",
              "      <td>1</td>\n",
              "      <td>89</td>\n",
              "      <td>66</td>\n",
              "      <td>23</td>\n",
              "      <td>94</td>\n",
              "      <td>28.1</td>\n",
              "      <td>0.167</td>\n",
              "      <td>21</td>\n",
              "      <td>0</td>\n",
              "    </tr>\n",
              "    <tr>\n",
              "      <th>4</th>\n",
              "      <td>0</td>\n",
              "      <td>137</td>\n",
              "      <td>40</td>\n",
              "      <td>35</td>\n",
              "      <td>168</td>\n",
              "      <td>43.1</td>\n",
              "      <td>2.288</td>\n",
              "      <td>33</td>\n",
              "      <td>1</td>\n",
              "    </tr>\n",
              "  </tbody>\n",
              "</table>\n",
              "</div>\n",
              "      <button class=\"colab-df-convert\" onclick=\"convertToInteractive('df-2a601edd-53f9-4098-b49e-0484c4212f9b')\"\n",
              "              title=\"Convert this dataframe to an interactive table.\"\n",
              "              style=\"display:none;\">\n",
              "        \n",
              "  <svg xmlns=\"http://www.w3.org/2000/svg\" height=\"24px\"viewBox=\"0 0 24 24\"\n",
              "       width=\"24px\">\n",
              "    <path d=\"M0 0h24v24H0V0z\" fill=\"none\"/>\n",
              "    <path d=\"M18.56 5.44l.94 2.06.94-2.06 2.06-.94-2.06-.94-.94-2.06-.94 2.06-2.06.94zm-11 1L8.5 8.5l.94-2.06 2.06-.94-2.06-.94L8.5 2.5l-.94 2.06-2.06.94zm10 10l.94 2.06.94-2.06 2.06-.94-2.06-.94-.94-2.06-.94 2.06-2.06.94z\"/><path d=\"M17.41 7.96l-1.37-1.37c-.4-.4-.92-.59-1.43-.59-.52 0-1.04.2-1.43.59L10.3 9.45l-7.72 7.72c-.78.78-.78 2.05 0 2.83L4 21.41c.39.39.9.59 1.41.59.51 0 1.02-.2 1.41-.59l7.78-7.78 2.81-2.81c.8-.78.8-2.07 0-2.86zM5.41 20L4 18.59l7.72-7.72 1.47 1.35L5.41 20z\"/>\n",
              "  </svg>\n",
              "      </button>\n",
              "      \n",
              "  <style>\n",
              "    .colab-df-container {\n",
              "      display:flex;\n",
              "      flex-wrap:wrap;\n",
              "      gap: 12px;\n",
              "    }\n",
              "\n",
              "    .colab-df-convert {\n",
              "      background-color: #E8F0FE;\n",
              "      border: none;\n",
              "      border-radius: 50%;\n",
              "      cursor: pointer;\n",
              "      display: none;\n",
              "      fill: #1967D2;\n",
              "      height: 32px;\n",
              "      padding: 0 0 0 0;\n",
              "      width: 32px;\n",
              "    }\n",
              "\n",
              "    .colab-df-convert:hover {\n",
              "      background-color: #E2EBFA;\n",
              "      box-shadow: 0px 1px 2px rgba(60, 64, 67, 0.3), 0px 1px 3px 1px rgba(60, 64, 67, 0.15);\n",
              "      fill: #174EA6;\n",
              "    }\n",
              "\n",
              "    [theme=dark] .colab-df-convert {\n",
              "      background-color: #3B4455;\n",
              "      fill: #D2E3FC;\n",
              "    }\n",
              "\n",
              "    [theme=dark] .colab-df-convert:hover {\n",
              "      background-color: #434B5C;\n",
              "      box-shadow: 0px 1px 3px 1px rgba(0, 0, 0, 0.15);\n",
              "      filter: drop-shadow(0px 1px 2px rgba(0, 0, 0, 0.3));\n",
              "      fill: #FFFFFF;\n",
              "    }\n",
              "  </style>\n",
              "\n",
              "      <script>\n",
              "        const buttonEl =\n",
              "          document.querySelector('#df-2a601edd-53f9-4098-b49e-0484c4212f9b button.colab-df-convert');\n",
              "        buttonEl.style.display =\n",
              "          google.colab.kernel.accessAllowed ? 'block' : 'none';\n",
              "\n",
              "        async function convertToInteractive(key) {\n",
              "          const element = document.querySelector('#df-2a601edd-53f9-4098-b49e-0484c4212f9b');\n",
              "          const dataTable =\n",
              "            await google.colab.kernel.invokeFunction('convertToInteractive',\n",
              "                                                     [key], {});\n",
              "          if (!dataTable) return;\n",
              "\n",
              "          const docLinkHtml = 'Like what you see? Visit the ' +\n",
              "            '<a target=\"_blank\" href=https://colab.research.google.com/notebooks/data_table.ipynb>data table notebook</a>'\n",
              "            + ' to learn more about interactive tables.';\n",
              "          element.innerHTML = '';\n",
              "          dataTable['output_type'] = 'display_data';\n",
              "          await google.colab.output.renderOutput(dataTable, element);\n",
              "          const docLink = document.createElement('div');\n",
              "          docLink.innerHTML = docLinkHtml;\n",
              "          element.appendChild(docLink);\n",
              "        }\n",
              "      </script>\n",
              "    </div>\n",
              "  </div>\n",
              "  "
            ]
          },
          "metadata": {},
          "execution_count": 37
        }
      ]
    },
    {
      "cell_type": "code",
      "source": [
        "for i in range(len(df.columns[:-1])):\n",
        "  label=df.columns[i]\n",
        "  plt.hist(df[df['Outcome']==1][label], color='blue', label='Diabetes', alpha=0.5, density=True, bins=15)\n",
        "  plt.hist(df[df['Outcome']==0][label], color='red', label='No Diabetes', alpha=0.5, density=True, bins=15)\n",
        "  plt.title(label)\n",
        "  plt.ylabel(\"Probability\")\n",
        "  plt.xlabel(label)\n",
        "  plt.legend()\n",
        "  plt.show()"
      ],
      "metadata": {
        "id": "04C26dXT8lMf"
      },
      "execution_count": null,
      "outputs": []
    },
    {
      "cell_type": "code",
      "source": [
        "len(df[df['Outcome']==1]),len(df[df['Outcome']==0])"
      ],
      "metadata": {
        "colab": {
          "base_uri": "https://localhost:8080/"
        },
        "id": "DcS--3z9-Gck",
        "outputId": "2941b90b-354d-4ff9-c84c-223f198cb36f"
      },
      "execution_count": null,
      "outputs": [
        {
          "output_type": "execute_result",
          "data": {
            "text/plain": [
              "(268, 500)"
            ]
          },
          "metadata": {},
          "execution_count": 39
        }
      ]
    },
    {
      "cell_type": "code",
      "source": [
        "scaler = StandardScaler()\n",
        "X = df[df.columns[:-1]].values\n",
        "X = scaler.fit_transform(X)\n",
        "y=df[df.columns[-1]].values\n",
        "over = RandomOverSampler()\n",
        "X , y = over.fit_resample(X,y)\n",
        "data = np.hstack((X, np.reshape(y,(-1,1))))\n",
        "df_transformed = pd.DataFrame(data, columns=df.columns)\n",
        "\n",
        "len(df_transformed[df_transformed['Outcome']==1]), len(df_transformed[df_transformed['Outcome']==1])"
      ],
      "metadata": {
        "colab": {
          "base_uri": "https://localhost:8080/"
        },
        "id": "5dIoDYcQ_rJL",
        "outputId": "77faddaf-4ca0-43a1-9ce6-ab7c8c1faec0"
      },
      "execution_count": null,
      "outputs": [
        {
          "output_type": "execute_result",
          "data": {
            "text/plain": [
              "(500, 500)"
            ]
          },
          "metadata": {},
          "execution_count": 44
        }
      ]
    },
    {
      "cell_type": "code",
      "source": [
        "X_train, X_temp, y_train, y_temp = train_test_split(X,y,test_size=0.4,random_state=0)"
      ],
      "metadata": {
        "id": "vevMtTyXAvpH"
      },
      "execution_count": null,
      "outputs": []
    },
    {
      "cell_type": "code",
      "source": [
        "X_valid, X_test, y_valid, y_test = train_test_split(X_temp,y_temp,test_size=0.5,random_state=0)"
      ],
      "metadata": {
        "id": "N6wo4ftiB2iz"
      },
      "execution_count": null,
      "outputs": []
    },
    {
      "cell_type": "code",
      "source": [
        "model=tf.keras.Sequential([\n",
        "                           \n",
        "    tf.keras.layers.Dense(16, activation=\"relu\"),\n",
        "    tf.keras.layers.Dense(16, activation=\"relu\"),\n",
        "    tf.keras.layers.Dense(1, activation=\"sigmoid\")\n",
        "])"
      ],
      "metadata": {
        "id": "eAsrp5zrCKV3"
      },
      "execution_count": null,
      "outputs": []
    },
    {
      "cell_type": "code",
      "source": [
        "model.compile(\n",
        "              optimizer=tf.keras.optimizers.Adam(learning_rate=0.001),\n",
        "              loss=tf.keras.losses.BinaryCrossentropy(),\n",
        "              metrics=['Accuracy']\n",
        ")"
      ],
      "metadata": {
        "id": "UEglmRpADgvM"
      },
      "execution_count": null,
      "outputs": []
    },
    {
      "cell_type": "code",
      "source": [
        "model.evaluate(X_train,y_train)"
      ],
      "metadata": {
        "colab": {
          "base_uri": "https://localhost:8080/"
        },
        "id": "sHT84FJaEfsX",
        "outputId": "5bcaf60b-e803-493a-fd33-1bd9671351db"
      },
      "execution_count": null,
      "outputs": [
        {
          "output_type": "stream",
          "name": "stdout",
          "text": [
            "19/19 [==============================] - 0s 2ms/step - loss: 0.4467 - Accuracy: 0.7783\n"
          ]
        },
        {
          "output_type": "execute_result",
          "data": {
            "text/plain": [
              "[0.446665495634079, 0.778333306312561]"
            ]
          },
          "metadata": {},
          "execution_count": 54
        }
      ]
    },
    {
      "cell_type": "code",
      "source": [
        "model.evaluate(X_valid,y_valid)"
      ],
      "metadata": {
        "colab": {
          "base_uri": "https://localhost:8080/"
        },
        "id": "Se2ffKNbEyAZ",
        "outputId": "c9084a49-0f40-4fc7-842d-599f2b809c30"
      },
      "execution_count": null,
      "outputs": [
        {
          "output_type": "stream",
          "name": "stdout",
          "text": [
            "7/7 [==============================] - 0s 2ms/step - loss: 0.4464 - Accuracy: 0.7800\n"
          ]
        },
        {
          "output_type": "execute_result",
          "data": {
            "text/plain": [
              "[0.4463922083377838, 0.7799999713897705]"
            ]
          },
          "metadata": {},
          "execution_count": 55
        }
      ]
    },
    {
      "cell_type": "code",
      "source": [
        "model.fit(X_train,y_train, batch_size=16, epochs=50, validation_data=(X_valid,y_valid))"
      ],
      "metadata": {
        "colab": {
          "base_uri": "https://localhost:8080/"
        },
        "id": "_nkLCEAYE7ZD",
        "outputId": "b80504a0-3721-4e10-c2f5-fb072ac1584e"
      },
      "execution_count": null,
      "outputs": [
        {
          "output_type": "stream",
          "name": "stdout",
          "text": [
            "Epoch 1/50\n",
            "38/38 [==============================] - 0s 4ms/step - loss: 0.4483 - Accuracy: 0.7750 - val_loss: 0.4446 - val_Accuracy: 0.7850\n",
            "Epoch 2/50\n",
            "38/38 [==============================] - 0s 5ms/step - loss: 0.4478 - Accuracy: 0.7700 - val_loss: 0.4436 - val_Accuracy: 0.7750\n",
            "Epoch 3/50\n",
            "38/38 [==============================] - 0s 6ms/step - loss: 0.4461 - Accuracy: 0.7717 - val_loss: 0.4453 - val_Accuracy: 0.7750\n",
            "Epoch 4/50\n",
            "38/38 [==============================] - 0s 6ms/step - loss: 0.4447 - Accuracy: 0.7717 - val_loss: 0.4441 - val_Accuracy: 0.7800\n",
            "Epoch 5/50\n",
            "38/38 [==============================] - 0s 5ms/step - loss: 0.4449 - Accuracy: 0.7767 - val_loss: 0.4449 - val_Accuracy: 0.7800\n",
            "Epoch 6/50\n",
            "38/38 [==============================] - 0s 5ms/step - loss: 0.4430 - Accuracy: 0.7783 - val_loss: 0.4439 - val_Accuracy: 0.7800\n",
            "Epoch 7/50\n",
            "38/38 [==============================] - 0s 6ms/step - loss: 0.4420 - Accuracy: 0.7717 - val_loss: 0.4442 - val_Accuracy: 0.7750\n",
            "Epoch 8/50\n",
            "38/38 [==============================] - 0s 5ms/step - loss: 0.4416 - Accuracy: 0.7850 - val_loss: 0.4440 - val_Accuracy: 0.7750\n",
            "Epoch 9/50\n",
            "38/38 [==============================] - 0s 5ms/step - loss: 0.4406 - Accuracy: 0.7767 - val_loss: 0.4422 - val_Accuracy: 0.7750\n",
            "Epoch 10/50\n",
            "38/38 [==============================] - 0s 5ms/step - loss: 0.4381 - Accuracy: 0.7767 - val_loss: 0.4422 - val_Accuracy: 0.7800\n",
            "Epoch 11/50\n",
            "38/38 [==============================] - 0s 6ms/step - loss: 0.4373 - Accuracy: 0.7783 - val_loss: 0.4430 - val_Accuracy: 0.7700\n",
            "Epoch 12/50\n",
            "38/38 [==============================] - 0s 6ms/step - loss: 0.4370 - Accuracy: 0.7867 - val_loss: 0.4425 - val_Accuracy: 0.7750\n",
            "Epoch 13/50\n",
            "38/38 [==============================] - 0s 4ms/step - loss: 0.4363 - Accuracy: 0.7767 - val_loss: 0.4419 - val_Accuracy: 0.7650\n",
            "Epoch 14/50\n",
            "38/38 [==============================] - 0s 5ms/step - loss: 0.4343 - Accuracy: 0.7867 - val_loss: 0.4411 - val_Accuracy: 0.7700\n",
            "Epoch 15/50\n",
            "38/38 [==============================] - 0s 5ms/step - loss: 0.4339 - Accuracy: 0.7883 - val_loss: 0.4398 - val_Accuracy: 0.7750\n",
            "Epoch 16/50\n",
            "38/38 [==============================] - 0s 4ms/step - loss: 0.4317 - Accuracy: 0.7933 - val_loss: 0.4396 - val_Accuracy: 0.7650\n",
            "Epoch 17/50\n",
            "38/38 [==============================] - 0s 5ms/step - loss: 0.4309 - Accuracy: 0.7933 - val_loss: 0.4396 - val_Accuracy: 0.7700\n",
            "Epoch 18/50\n",
            "38/38 [==============================] - 0s 5ms/step - loss: 0.4314 - Accuracy: 0.7867 - val_loss: 0.4398 - val_Accuracy: 0.7700\n",
            "Epoch 19/50\n",
            "38/38 [==============================] - 0s 6ms/step - loss: 0.4287 - Accuracy: 0.7817 - val_loss: 0.4387 - val_Accuracy: 0.7650\n",
            "Epoch 20/50\n",
            "38/38 [==============================] - 0s 3ms/step - loss: 0.4268 - Accuracy: 0.7867 - val_loss: 0.4385 - val_Accuracy: 0.7700\n",
            "Epoch 21/50\n",
            "38/38 [==============================] - 0s 3ms/step - loss: 0.4250 - Accuracy: 0.7917 - val_loss: 0.4383 - val_Accuracy: 0.7650\n",
            "Epoch 22/50\n",
            "38/38 [==============================] - 0s 3ms/step - loss: 0.4261 - Accuracy: 0.7850 - val_loss: 0.4392 - val_Accuracy: 0.7650\n",
            "Epoch 23/50\n",
            "38/38 [==============================] - 0s 3ms/step - loss: 0.4243 - Accuracy: 0.7950 - val_loss: 0.4371 - val_Accuracy: 0.7700\n",
            "Epoch 24/50\n",
            "38/38 [==============================] - 0s 3ms/step - loss: 0.4233 - Accuracy: 0.7933 - val_loss: 0.4369 - val_Accuracy: 0.7650\n",
            "Epoch 25/50\n",
            "38/38 [==============================] - 0s 3ms/step - loss: 0.4217 - Accuracy: 0.7933 - val_loss: 0.4366 - val_Accuracy: 0.7700\n",
            "Epoch 26/50\n",
            "38/38 [==============================] - 0s 3ms/step - loss: 0.4207 - Accuracy: 0.7933 - val_loss: 0.4371 - val_Accuracy: 0.7700\n",
            "Epoch 27/50\n",
            "38/38 [==============================] - 0s 3ms/step - loss: 0.4208 - Accuracy: 0.7933 - val_loss: 0.4362 - val_Accuracy: 0.7650\n",
            "Epoch 28/50\n",
            "38/38 [==============================] - 0s 3ms/step - loss: 0.4193 - Accuracy: 0.7900 - val_loss: 0.4371 - val_Accuracy: 0.7700\n",
            "Epoch 29/50\n",
            "38/38 [==============================] - 0s 3ms/step - loss: 0.4175 - Accuracy: 0.7950 - val_loss: 0.4375 - val_Accuracy: 0.7700\n",
            "Epoch 30/50\n",
            "38/38 [==============================] - 0s 3ms/step - loss: 0.4165 - Accuracy: 0.7900 - val_loss: 0.4370 - val_Accuracy: 0.7650\n",
            "Epoch 31/50\n",
            "38/38 [==============================] - 0s 3ms/step - loss: 0.4156 - Accuracy: 0.7950 - val_loss: 0.4365 - val_Accuracy: 0.7700\n",
            "Epoch 32/50\n",
            "38/38 [==============================] - 0s 3ms/step - loss: 0.4147 - Accuracy: 0.8050 - val_loss: 0.4361 - val_Accuracy: 0.7600\n",
            "Epoch 33/50\n",
            "38/38 [==============================] - 0s 3ms/step - loss: 0.4149 - Accuracy: 0.8000 - val_loss: 0.4366 - val_Accuracy: 0.7800\n",
            "Epoch 34/50\n",
            "38/38 [==============================] - 0s 3ms/step - loss: 0.4130 - Accuracy: 0.7983 - val_loss: 0.4362 - val_Accuracy: 0.7750\n",
            "Epoch 35/50\n",
            "38/38 [==============================] - 0s 3ms/step - loss: 0.4126 - Accuracy: 0.8000 - val_loss: 0.4341 - val_Accuracy: 0.7800\n",
            "Epoch 36/50\n",
            "38/38 [==============================] - 0s 3ms/step - loss: 0.4108 - Accuracy: 0.8000 - val_loss: 0.4353 - val_Accuracy: 0.7600\n",
            "Epoch 37/50\n",
            "38/38 [==============================] - 0s 3ms/step - loss: 0.4089 - Accuracy: 0.8000 - val_loss: 0.4368 - val_Accuracy: 0.7700\n",
            "Epoch 38/50\n",
            "38/38 [==============================] - 0s 3ms/step - loss: 0.4093 - Accuracy: 0.8050 - val_loss: 0.4348 - val_Accuracy: 0.7650\n",
            "Epoch 39/50\n",
            "38/38 [==============================] - 0s 3ms/step - loss: 0.4103 - Accuracy: 0.8083 - val_loss: 0.4341 - val_Accuracy: 0.7650\n",
            "Epoch 40/50\n",
            "38/38 [==============================] - 0s 3ms/step - loss: 0.4085 - Accuracy: 0.8050 - val_loss: 0.4340 - val_Accuracy: 0.7750\n",
            "Epoch 41/50\n",
            "38/38 [==============================] - 0s 3ms/step - loss: 0.4074 - Accuracy: 0.8100 - val_loss: 0.4339 - val_Accuracy: 0.7750\n",
            "Epoch 42/50\n",
            "38/38 [==============================] - 0s 3ms/step - loss: 0.4058 - Accuracy: 0.8000 - val_loss: 0.4340 - val_Accuracy: 0.7700\n",
            "Epoch 43/50\n",
            "38/38 [==============================] - 0s 3ms/step - loss: 0.4036 - Accuracy: 0.8150 - val_loss: 0.4363 - val_Accuracy: 0.7800\n",
            "Epoch 44/50\n",
            "38/38 [==============================] - 0s 3ms/step - loss: 0.4032 - Accuracy: 0.8033 - val_loss: 0.4327 - val_Accuracy: 0.7650\n",
            "Epoch 45/50\n",
            "38/38 [==============================] - 0s 3ms/step - loss: 0.4027 - Accuracy: 0.8000 - val_loss: 0.4352 - val_Accuracy: 0.7800\n",
            "Epoch 46/50\n",
            "38/38 [==============================] - 0s 3ms/step - loss: 0.4008 - Accuracy: 0.8100 - val_loss: 0.4339 - val_Accuracy: 0.7750\n",
            "Epoch 47/50\n",
            "38/38 [==============================] - 0s 3ms/step - loss: 0.4013 - Accuracy: 0.8050 - val_loss: 0.4321 - val_Accuracy: 0.7800\n",
            "Epoch 48/50\n",
            "38/38 [==============================] - 0s 3ms/step - loss: 0.3995 - Accuracy: 0.8150 - val_loss: 0.4342 - val_Accuracy: 0.7700\n",
            "Epoch 49/50\n",
            "38/38 [==============================] - 0s 3ms/step - loss: 0.3977 - Accuracy: 0.8150 - val_loss: 0.4334 - val_Accuracy: 0.7800\n",
            "Epoch 50/50\n",
            "38/38 [==============================] - 0s 3ms/step - loss: 0.3975 - Accuracy: 0.8133 - val_loss: 0.4319 - val_Accuracy: 0.7750\n"
          ]
        },
        {
          "output_type": "execute_result",
          "data": {
            "text/plain": [
              "<keras.callbacks.History at 0x7f3e14725d50>"
            ]
          },
          "metadata": {},
          "execution_count": 56
        }
      ]
    },
    {
      "cell_type": "code",
      "source": [
        "model.evaluate(X_test,y_test)"
      ],
      "metadata": {
        "colab": {
          "base_uri": "https://localhost:8080/"
        },
        "id": "xTKeEaDfFXhh",
        "outputId": "acf40cb7-c257-4167-a81b-5c6fedf40781"
      },
      "execution_count": null,
      "outputs": [
        {
          "output_type": "stream",
          "name": "stdout",
          "text": [
            "7/7 [==============================] - 0s 3ms/step - loss: 0.4801 - Accuracy: 0.7650\n"
          ]
        },
        {
          "output_type": "execute_result",
          "data": {
            "text/plain": [
              "[0.48005980253219604, 0.7649999856948853]"
            ]
          },
          "metadata": {},
          "execution_count": 57
        }
      ]
    },
    {
      "cell_type": "code",
      "source": [
        ""
      ],
      "metadata": {
        "id": "_Vjq6cSOK0GA"
      },
      "execution_count": null,
      "outputs": []
    }
  ]
}